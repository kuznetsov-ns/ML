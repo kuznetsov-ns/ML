{
 "cells": [
  {
   "cell_type": "code",
   "execution_count": 2,
   "id": "ab71facc",
   "metadata": {},
   "outputs": [],
   "source": [
    "import numpy as np              # Массивы (матрицы, векторы, линейная алгебра)\n",
    "import matplotlib.pyplot as plt # Научная графика\n",
    "    # Говорим Jupeter Notebook, чтобы весь графический вывод был в браузере, а не в отдельном окне\n",
    "%matplotlib inline\n",
    "import pandas as pd             # Таблицы и временные ряды (dataframe, series)\n",
    "import seaborn as sns           # Еще больше красивой графики для визуализации данных\n",
    "import sklearn                  # Для расчёта значений метрик и выбора моделей"
   ]
  },
  {
   "cell_type": "markdown",
   "id": "cbb729fd",
   "metadata": {},
   "source": [
    "## 0) Описание задачи"
   ]
  },
  {
   "cell_type": "markdown",
   "id": "3fca0e81",
   "metadata": {},
   "source": [
    "Нашей задачей будет исследовать набор данных, состоящий из зарплат популярных IT корпораций.\n",
    "Будет выполнена визуализация данных, вычислены основные характеристики.\n",
    "Данные разобьются на обучающую и тестовую выборку.\n",
    "Также будет запущен классификатор ближайших соседей"
   ]
  },
  {
   "cell_type": "markdown",
   "id": "1020ec1e",
   "metadata": {},
   "source": [
    "## 1) Считываем данные"
   ]
  },
  {
   "cell_type": "code",
   "execution_count": 79,
   "id": "52f244bc",
   "metadata": {},
   "outputs": [],
   "source": [
    "url = \"https://raw.githubusercontent.com/kuznetsov-ns/ML/main/Levels_Fyi_Salary_Data.csv\"\n",
    "data_raw = pd.read_csv(url)"
   ]
  },
  {
   "cell_type": "code",
   "execution_count": 80,
   "id": "061aaafa",
   "metadata": {},
   "outputs": [
    {
     "data": {
      "text/plain": [
       "(62642, 29)"
      ]
     },
     "execution_count": 80,
     "metadata": {},
     "output_type": "execute_result"
    }
   ],
   "source": [
    "data_raw.shape"
   ]
  },
  {
   "cell_type": "markdown",
   "id": "874df34a",
   "metadata": {},
   "source": [
    "## 2)Визуализируем данные и вычисляем основные характеристики"
   ]
  },
  {
   "cell_type": "markdown",
   "id": "cffa661f",
   "metadata": {},
   "source": [
    "Нашей задачей будет исследовать набор данных, состоящий из зарплат крупных IT корпораций. Будет выполнена визуализация данных, вычислены основные характеристики. Данные разобьются на обучающую и тестовую выборку. Также будет запущен классификатор ближайших соседей."
   ]
  },
  {
   "cell_type": "code",
   "execution_count": 5,
   "id": "f26cde96",
   "metadata": {
    "scrolled": false
   },
   "outputs": [
    {
     "data": {
      "text/html": [
       "<div>\n",
       "<style scoped>\n",
       "    .dataframe tbody tr th:only-of-type {\n",
       "        vertical-align: middle;\n",
       "    }\n",
       "\n",
       "    .dataframe tbody tr th {\n",
       "        vertical-align: top;\n",
       "    }\n",
       "\n",
       "    .dataframe thead th {\n",
       "        text-align: right;\n",
       "    }\n",
       "</style>\n",
       "<table border=\"1\" class=\"dataframe\">\n",
       "  <thead>\n",
       "    <tr style=\"text-align: right;\">\n",
       "      <th></th>\n",
       "      <th>timestamp</th>\n",
       "      <th>company</th>\n",
       "      <th>level</th>\n",
       "      <th>title</th>\n",
       "      <th>totalyearlycompensation</th>\n",
       "      <th>location</th>\n",
       "      <th>yearsofexperience</th>\n",
       "      <th>yearsatcompany</th>\n",
       "      <th>tag</th>\n",
       "      <th>basesalary</th>\n",
       "      <th>...</th>\n",
       "      <th>Doctorate_Degree</th>\n",
       "      <th>Highschool</th>\n",
       "      <th>Some_College</th>\n",
       "      <th>Race_Asian</th>\n",
       "      <th>Race_White</th>\n",
       "      <th>Race_Two_Or_More</th>\n",
       "      <th>Race_Black</th>\n",
       "      <th>Race_Hispanic</th>\n",
       "      <th>Race</th>\n",
       "      <th>Education</th>\n",
       "    </tr>\n",
       "  </thead>\n",
       "  <tbody>\n",
       "    <tr>\n",
       "      <th>0</th>\n",
       "      <td>6/7/2017 11:33:27</td>\n",
       "      <td>Oracle</td>\n",
       "      <td>L3</td>\n",
       "      <td>Product Manager</td>\n",
       "      <td>127000</td>\n",
       "      <td>Redwood City, CA</td>\n",
       "      <td>1.5</td>\n",
       "      <td>1.5</td>\n",
       "      <td>NaN</td>\n",
       "      <td>107000.0</td>\n",
       "      <td>...</td>\n",
       "      <td>0</td>\n",
       "      <td>0</td>\n",
       "      <td>0</td>\n",
       "      <td>0</td>\n",
       "      <td>0</td>\n",
       "      <td>0</td>\n",
       "      <td>0</td>\n",
       "      <td>0</td>\n",
       "      <td>NaN</td>\n",
       "      <td>NaN</td>\n",
       "    </tr>\n",
       "    <tr>\n",
       "      <th>1</th>\n",
       "      <td>6/10/2017 17:11:29</td>\n",
       "      <td>eBay</td>\n",
       "      <td>SE 2</td>\n",
       "      <td>Software Engineer</td>\n",
       "      <td>100000</td>\n",
       "      <td>San Francisco, CA</td>\n",
       "      <td>5.0</td>\n",
       "      <td>3.0</td>\n",
       "      <td>NaN</td>\n",
       "      <td>0.0</td>\n",
       "      <td>...</td>\n",
       "      <td>0</td>\n",
       "      <td>0</td>\n",
       "      <td>0</td>\n",
       "      <td>0</td>\n",
       "      <td>0</td>\n",
       "      <td>0</td>\n",
       "      <td>0</td>\n",
       "      <td>0</td>\n",
       "      <td>NaN</td>\n",
       "      <td>NaN</td>\n",
       "    </tr>\n",
       "    <tr>\n",
       "      <th>2</th>\n",
       "      <td>6/11/2017 14:53:57</td>\n",
       "      <td>Amazon</td>\n",
       "      <td>L7</td>\n",
       "      <td>Product Manager</td>\n",
       "      <td>310000</td>\n",
       "      <td>Seattle, WA</td>\n",
       "      <td>8.0</td>\n",
       "      <td>0.0</td>\n",
       "      <td>NaN</td>\n",
       "      <td>155000.0</td>\n",
       "      <td>...</td>\n",
       "      <td>0</td>\n",
       "      <td>0</td>\n",
       "      <td>0</td>\n",
       "      <td>0</td>\n",
       "      <td>0</td>\n",
       "      <td>0</td>\n",
       "      <td>0</td>\n",
       "      <td>0</td>\n",
       "      <td>NaN</td>\n",
       "      <td>NaN</td>\n",
       "    </tr>\n",
       "    <tr>\n",
       "      <th>3</th>\n",
       "      <td>6/17/2017 0:23:14</td>\n",
       "      <td>Apple</td>\n",
       "      <td>M1</td>\n",
       "      <td>Software Engineering Manager</td>\n",
       "      <td>372000</td>\n",
       "      <td>Sunnyvale, CA</td>\n",
       "      <td>7.0</td>\n",
       "      <td>5.0</td>\n",
       "      <td>NaN</td>\n",
       "      <td>157000.0</td>\n",
       "      <td>...</td>\n",
       "      <td>0</td>\n",
       "      <td>0</td>\n",
       "      <td>0</td>\n",
       "      <td>0</td>\n",
       "      <td>0</td>\n",
       "      <td>0</td>\n",
       "      <td>0</td>\n",
       "      <td>0</td>\n",
       "      <td>NaN</td>\n",
       "      <td>NaN</td>\n",
       "    </tr>\n",
       "    <tr>\n",
       "      <th>4</th>\n",
       "      <td>6/20/2017 10:58:51</td>\n",
       "      <td>Microsoft</td>\n",
       "      <td>60</td>\n",
       "      <td>Software Engineer</td>\n",
       "      <td>157000</td>\n",
       "      <td>Mountain View, CA</td>\n",
       "      <td>5.0</td>\n",
       "      <td>3.0</td>\n",
       "      <td>NaN</td>\n",
       "      <td>0.0</td>\n",
       "      <td>...</td>\n",
       "      <td>0</td>\n",
       "      <td>0</td>\n",
       "      <td>0</td>\n",
       "      <td>0</td>\n",
       "      <td>0</td>\n",
       "      <td>0</td>\n",
       "      <td>0</td>\n",
       "      <td>0</td>\n",
       "      <td>NaN</td>\n",
       "      <td>NaN</td>\n",
       "    </tr>\n",
       "    <tr>\n",
       "      <th>...</th>\n",
       "      <td>...</td>\n",
       "      <td>...</td>\n",
       "      <td>...</td>\n",
       "      <td>...</td>\n",
       "      <td>...</td>\n",
       "      <td>...</td>\n",
       "      <td>...</td>\n",
       "      <td>...</td>\n",
       "      <td>...</td>\n",
       "      <td>...</td>\n",
       "      <td>...</td>\n",
       "      <td>...</td>\n",
       "      <td>...</td>\n",
       "      <td>...</td>\n",
       "      <td>...</td>\n",
       "      <td>...</td>\n",
       "      <td>...</td>\n",
       "      <td>...</td>\n",
       "      <td>...</td>\n",
       "      <td>...</td>\n",
       "      <td>...</td>\n",
       "    </tr>\n",
       "    <tr>\n",
       "      <th>62637</th>\n",
       "      <td>9/9/2018 11:52:32</td>\n",
       "      <td>Google</td>\n",
       "      <td>T4</td>\n",
       "      <td>Software Engineer</td>\n",
       "      <td>327000</td>\n",
       "      <td>Seattle, WA</td>\n",
       "      <td>10.0</td>\n",
       "      <td>1.0</td>\n",
       "      <td>Distributed Systems (Back-End)</td>\n",
       "      <td>155000.0</td>\n",
       "      <td>...</td>\n",
       "      <td>0</td>\n",
       "      <td>0</td>\n",
       "      <td>0</td>\n",
       "      <td>0</td>\n",
       "      <td>0</td>\n",
       "      <td>0</td>\n",
       "      <td>0</td>\n",
       "      <td>0</td>\n",
       "      <td>NaN</td>\n",
       "      <td>NaN</td>\n",
       "    </tr>\n",
       "    <tr>\n",
       "      <th>62638</th>\n",
       "      <td>9/13/2018 8:23:32</td>\n",
       "      <td>Microsoft</td>\n",
       "      <td>62</td>\n",
       "      <td>Software Engineer</td>\n",
       "      <td>237000</td>\n",
       "      <td>Redmond, WA</td>\n",
       "      <td>2.0</td>\n",
       "      <td>2.0</td>\n",
       "      <td>Full Stack</td>\n",
       "      <td>146900.0</td>\n",
       "      <td>...</td>\n",
       "      <td>0</td>\n",
       "      <td>0</td>\n",
       "      <td>0</td>\n",
       "      <td>0</td>\n",
       "      <td>0</td>\n",
       "      <td>0</td>\n",
       "      <td>0</td>\n",
       "      <td>0</td>\n",
       "      <td>NaN</td>\n",
       "      <td>NaN</td>\n",
       "    </tr>\n",
       "    <tr>\n",
       "      <th>62639</th>\n",
       "      <td>9/13/2018 14:35:59</td>\n",
       "      <td>MSFT</td>\n",
       "      <td>63</td>\n",
       "      <td>Software Engineer</td>\n",
       "      <td>220000</td>\n",
       "      <td>Seattle, WA</td>\n",
       "      <td>14.0</td>\n",
       "      <td>12.0</td>\n",
       "      <td>Full Stack</td>\n",
       "      <td>157000.0</td>\n",
       "      <td>...</td>\n",
       "      <td>0</td>\n",
       "      <td>0</td>\n",
       "      <td>0</td>\n",
       "      <td>0</td>\n",
       "      <td>0</td>\n",
       "      <td>0</td>\n",
       "      <td>0</td>\n",
       "      <td>0</td>\n",
       "      <td>NaN</td>\n",
       "      <td>NaN</td>\n",
       "    </tr>\n",
       "    <tr>\n",
       "      <th>62640</th>\n",
       "      <td>9/16/2018 16:10:35</td>\n",
       "      <td>Salesforce</td>\n",
       "      <td>Lead MTS</td>\n",
       "      <td>Software Engineer</td>\n",
       "      <td>280000</td>\n",
       "      <td>San Francisco, CA</td>\n",
       "      <td>8.0</td>\n",
       "      <td>4.0</td>\n",
       "      <td>iOS</td>\n",
       "      <td>194688.0</td>\n",
       "      <td>...</td>\n",
       "      <td>0</td>\n",
       "      <td>0</td>\n",
       "      <td>0</td>\n",
       "      <td>0</td>\n",
       "      <td>0</td>\n",
       "      <td>0</td>\n",
       "      <td>0</td>\n",
       "      <td>0</td>\n",
       "      <td>NaN</td>\n",
       "      <td>NaN</td>\n",
       "    </tr>\n",
       "    <tr>\n",
       "      <th>62641</th>\n",
       "      <td>1/29/2019 5:12:59</td>\n",
       "      <td>apple</td>\n",
       "      <td>ict3</td>\n",
       "      <td>Software Engineer</td>\n",
       "      <td>200000</td>\n",
       "      <td>Sunnyvale, CA</td>\n",
       "      <td>0.0</td>\n",
       "      <td>0.0</td>\n",
       "      <td>ML / AI</td>\n",
       "      <td>155000.0</td>\n",
       "      <td>...</td>\n",
       "      <td>0</td>\n",
       "      <td>0</td>\n",
       "      <td>0</td>\n",
       "      <td>0</td>\n",
       "      <td>0</td>\n",
       "      <td>0</td>\n",
       "      <td>0</td>\n",
       "      <td>0</td>\n",
       "      <td>NaN</td>\n",
       "      <td>NaN</td>\n",
       "    </tr>\n",
       "  </tbody>\n",
       "</table>\n",
       "<p>62642 rows × 29 columns</p>\n",
       "</div>"
      ],
      "text/plain": [
       "                timestamp     company     level                         title  \\\n",
       "0       6/7/2017 11:33:27      Oracle        L3               Product Manager   \n",
       "1      6/10/2017 17:11:29        eBay      SE 2             Software Engineer   \n",
       "2      6/11/2017 14:53:57      Amazon        L7               Product Manager   \n",
       "3       6/17/2017 0:23:14       Apple        M1  Software Engineering Manager   \n",
       "4      6/20/2017 10:58:51   Microsoft        60             Software Engineer   \n",
       "...                   ...         ...       ...                           ...   \n",
       "62637   9/9/2018 11:52:32      Google        T4             Software Engineer   \n",
       "62638   9/13/2018 8:23:32   Microsoft        62             Software Engineer   \n",
       "62639  9/13/2018 14:35:59        MSFT        63             Software Engineer   \n",
       "62640  9/16/2018 16:10:35  Salesforce  Lead MTS             Software Engineer   \n",
       "62641   1/29/2019 5:12:59       apple      ict3             Software Engineer   \n",
       "\n",
       "       totalyearlycompensation           location  yearsofexperience  \\\n",
       "0                       127000   Redwood City, CA                1.5   \n",
       "1                       100000  San Francisco, CA                5.0   \n",
       "2                       310000        Seattle, WA                8.0   \n",
       "3                       372000      Sunnyvale, CA                7.0   \n",
       "4                       157000  Mountain View, CA                5.0   \n",
       "...                        ...                ...                ...   \n",
       "62637                   327000        Seattle, WA               10.0   \n",
       "62638                   237000        Redmond, WA                2.0   \n",
       "62639                   220000        Seattle, WA               14.0   \n",
       "62640                   280000  San Francisco, CA                8.0   \n",
       "62641                   200000      Sunnyvale, CA                0.0   \n",
       "\n",
       "       yearsatcompany                             tag  basesalary  ...  \\\n",
       "0                 1.5                             NaN    107000.0  ...   \n",
       "1                 3.0                             NaN         0.0  ...   \n",
       "2                 0.0                             NaN    155000.0  ...   \n",
       "3                 5.0                             NaN    157000.0  ...   \n",
       "4                 3.0                             NaN         0.0  ...   \n",
       "...               ...                             ...         ...  ...   \n",
       "62637             1.0  Distributed Systems (Back-End)    155000.0  ...   \n",
       "62638             2.0                      Full Stack    146900.0  ...   \n",
       "62639            12.0                      Full Stack    157000.0  ...   \n",
       "62640             4.0                             iOS    194688.0  ...   \n",
       "62641             0.0                         ML / AI    155000.0  ...   \n",
       "\n",
       "       Doctorate_Degree  Highschool Some_College Race_Asian  Race_White  \\\n",
       "0                     0           0            0          0           0   \n",
       "1                     0           0            0          0           0   \n",
       "2                     0           0            0          0           0   \n",
       "3                     0           0            0          0           0   \n",
       "4                     0           0            0          0           0   \n",
       "...                 ...         ...          ...        ...         ...   \n",
       "62637                 0           0            0          0           0   \n",
       "62638                 0           0            0          0           0   \n",
       "62639                 0           0            0          0           0   \n",
       "62640                 0           0            0          0           0   \n",
       "62641                 0           0            0          0           0   \n",
       "\n",
       "       Race_Two_Or_More  Race_Black  Race_Hispanic  Race  Education  \n",
       "0                     0           0              0   NaN        NaN  \n",
       "1                     0           0              0   NaN        NaN  \n",
       "2                     0           0              0   NaN        NaN  \n",
       "3                     0           0              0   NaN        NaN  \n",
       "4                     0           0              0   NaN        NaN  \n",
       "...                 ...         ...            ...   ...        ...  \n",
       "62637                 0           0              0   NaN        NaN  \n",
       "62638                 0           0              0   NaN        NaN  \n",
       "62639                 0           0              0   NaN        NaN  \n",
       "62640                 0           0              0   NaN        NaN  \n",
       "62641                 0           0              0   NaN        NaN  \n",
       "\n",
       "[62642 rows x 29 columns]"
      ]
     },
     "execution_count": 5,
     "metadata": {},
     "output_type": "execute_result"
    }
   ],
   "source": [
    "data_raw"
   ]
  },
  {
   "cell_type": "code",
   "execution_count": 81,
   "id": "39a276f0",
   "metadata": {},
   "outputs": [
    {
     "data": {
      "text/plain": [
       "0        127000\n",
       "1        100000\n",
       "2        310000\n",
       "3        372000\n",
       "4        157000\n",
       "          ...  \n",
       "62637    327000\n",
       "62638    237000\n",
       "62639    220000\n",
       "62640    280000\n",
       "62641    200000\n",
       "Name: totalyearlycompensation, Length: 62642, dtype: int64"
      ]
     },
     "execution_count": 81,
     "metadata": {},
     "output_type": "execute_result"
    }
   ],
   "source": [
    "data_raw[\"totalyearlycompensation\"]"
   ]
  },
  {
   "cell_type": "code",
   "execution_count": 82,
   "id": "89dc5a6f",
   "metadata": {},
   "outputs": [],
   "source": [
    "# заменим на 1 все ЗП, которые >= 150000, а 0 все остальные\n",
    "data_raw[\"binary_salary\"] = np.where(data_raw[\"totalyearlycompensation\"] >= 150000, 1, 0)"
   ]
  },
  {
   "cell_type": "code",
   "execution_count": 83,
   "id": "8a2a5705",
   "metadata": {},
   "outputs": [
    {
     "data": {
      "text/plain": [
       "0        0\n",
       "1        0\n",
       "2        1\n",
       "3        1\n",
       "4        1\n",
       "        ..\n",
       "62637    1\n",
       "62638    1\n",
       "62639    1\n",
       "62640    1\n",
       "62641    1\n",
       "Name: binary_salary, Length: 62642, dtype: int32"
      ]
     },
     "execution_count": 83,
     "metadata": {},
     "output_type": "execute_result"
    }
   ],
   "source": [
    "data_raw[\"binary_salary\"]"
   ]
  },
  {
   "cell_type": "code",
   "execution_count": 84,
   "id": "8df6173f",
   "metadata": {},
   "outputs": [],
   "source": [
    "# избавляемся от ненужных признаков\n",
    "data_raw.drop(['Doctorate_Degree', 'Highschool', 'Some_College', 'Race_Asian', 'Race_White',\n",
    "              'Race_Two_Or_More', 'Race_Black', 'Race_Hispanic', 'Race', 'timestamp', 'gender',\n",
    "               'otherdetails', 'rowNumber', 'Masters_Degree', 'Bachelors_Degree', 'cityid',\n",
    "               'dmaid'], axis=1, inplace = True)"
   ]
  },
  {
   "cell_type": "code",
   "execution_count": 10,
   "id": "6d8b5533",
   "metadata": {
    "scrolled": true
   },
   "outputs": [
    {
     "data": {
      "text/html": [
       "<div>\n",
       "<style scoped>\n",
       "    .dataframe tbody tr th:only-of-type {\n",
       "        vertical-align: middle;\n",
       "    }\n",
       "\n",
       "    .dataframe tbody tr th {\n",
       "        vertical-align: top;\n",
       "    }\n",
       "\n",
       "    .dataframe thead th {\n",
       "        text-align: right;\n",
       "    }\n",
       "</style>\n",
       "<table border=\"1\" class=\"dataframe\">\n",
       "  <thead>\n",
       "    <tr style=\"text-align: right;\">\n",
       "      <th></th>\n",
       "      <th>company</th>\n",
       "      <th>level</th>\n",
       "      <th>title</th>\n",
       "      <th>totalyearlycompensation</th>\n",
       "      <th>location</th>\n",
       "      <th>yearsofexperience</th>\n",
       "      <th>yearsatcompany</th>\n",
       "      <th>tag</th>\n",
       "      <th>basesalary</th>\n",
       "      <th>stockgrantvalue</th>\n",
       "      <th>bonus</th>\n",
       "      <th>Education</th>\n",
       "      <th>binary_salary</th>\n",
       "    </tr>\n",
       "  </thead>\n",
       "  <tbody>\n",
       "    <tr>\n",
       "      <th>0</th>\n",
       "      <td>Oracle</td>\n",
       "      <td>L3</td>\n",
       "      <td>Product Manager</td>\n",
       "      <td>127000</td>\n",
       "      <td>Redwood City, CA</td>\n",
       "      <td>1.5</td>\n",
       "      <td>1.5</td>\n",
       "      <td>NaN</td>\n",
       "      <td>107000.0</td>\n",
       "      <td>20000.0</td>\n",
       "      <td>10000.0</td>\n",
       "      <td>NaN</td>\n",
       "      <td>0</td>\n",
       "    </tr>\n",
       "    <tr>\n",
       "      <th>1</th>\n",
       "      <td>eBay</td>\n",
       "      <td>SE 2</td>\n",
       "      <td>Software Engineer</td>\n",
       "      <td>100000</td>\n",
       "      <td>San Francisco, CA</td>\n",
       "      <td>5.0</td>\n",
       "      <td>3.0</td>\n",
       "      <td>NaN</td>\n",
       "      <td>0.0</td>\n",
       "      <td>0.0</td>\n",
       "      <td>0.0</td>\n",
       "      <td>NaN</td>\n",
       "      <td>0</td>\n",
       "    </tr>\n",
       "    <tr>\n",
       "      <th>2</th>\n",
       "      <td>Amazon</td>\n",
       "      <td>L7</td>\n",
       "      <td>Product Manager</td>\n",
       "      <td>310000</td>\n",
       "      <td>Seattle, WA</td>\n",
       "      <td>8.0</td>\n",
       "      <td>0.0</td>\n",
       "      <td>NaN</td>\n",
       "      <td>155000.0</td>\n",
       "      <td>0.0</td>\n",
       "      <td>0.0</td>\n",
       "      <td>NaN</td>\n",
       "      <td>1</td>\n",
       "    </tr>\n",
       "    <tr>\n",
       "      <th>3</th>\n",
       "      <td>Apple</td>\n",
       "      <td>M1</td>\n",
       "      <td>Software Engineering Manager</td>\n",
       "      <td>372000</td>\n",
       "      <td>Sunnyvale, CA</td>\n",
       "      <td>7.0</td>\n",
       "      <td>5.0</td>\n",
       "      <td>NaN</td>\n",
       "      <td>157000.0</td>\n",
       "      <td>180000.0</td>\n",
       "      <td>35000.0</td>\n",
       "      <td>NaN</td>\n",
       "      <td>1</td>\n",
       "    </tr>\n",
       "    <tr>\n",
       "      <th>4</th>\n",
       "      <td>Microsoft</td>\n",
       "      <td>60</td>\n",
       "      <td>Software Engineer</td>\n",
       "      <td>157000</td>\n",
       "      <td>Mountain View, CA</td>\n",
       "      <td>5.0</td>\n",
       "      <td>3.0</td>\n",
       "      <td>NaN</td>\n",
       "      <td>0.0</td>\n",
       "      <td>0.0</td>\n",
       "      <td>0.0</td>\n",
       "      <td>NaN</td>\n",
       "      <td>1</td>\n",
       "    </tr>\n",
       "    <tr>\n",
       "      <th>5</th>\n",
       "      <td>Microsoft</td>\n",
       "      <td>63</td>\n",
       "      <td>Software Engineer</td>\n",
       "      <td>208000</td>\n",
       "      <td>Seattle, WA</td>\n",
       "      <td>8.5</td>\n",
       "      <td>8.5</td>\n",
       "      <td>NaN</td>\n",
       "      <td>0.0</td>\n",
       "      <td>0.0</td>\n",
       "      <td>0.0</td>\n",
       "      <td>NaN</td>\n",
       "      <td>1</td>\n",
       "    </tr>\n",
       "    <tr>\n",
       "      <th>6</th>\n",
       "      <td>Microsoft</td>\n",
       "      <td>65</td>\n",
       "      <td>Software Engineering Manager</td>\n",
       "      <td>300000</td>\n",
       "      <td>Redmond, WA</td>\n",
       "      <td>15.0</td>\n",
       "      <td>11.0</td>\n",
       "      <td>NaN</td>\n",
       "      <td>180000.0</td>\n",
       "      <td>65000.0</td>\n",
       "      <td>55000.0</td>\n",
       "      <td>NaN</td>\n",
       "      <td>1</td>\n",
       "    </tr>\n",
       "    <tr>\n",
       "      <th>7</th>\n",
       "      <td>Microsoft</td>\n",
       "      <td>62</td>\n",
       "      <td>Software Engineer</td>\n",
       "      <td>156000</td>\n",
       "      <td>Seattle, WA</td>\n",
       "      <td>4.0</td>\n",
       "      <td>4.0</td>\n",
       "      <td>NaN</td>\n",
       "      <td>135000.0</td>\n",
       "      <td>8000.0</td>\n",
       "      <td>13000.0</td>\n",
       "      <td>NaN</td>\n",
       "      <td>1</td>\n",
       "    </tr>\n",
       "  </tbody>\n",
       "</table>\n",
       "</div>"
      ],
      "text/plain": [
       "     company level                         title  totalyearlycompensation  \\\n",
       "0     Oracle    L3               Product Manager                   127000   \n",
       "1       eBay  SE 2             Software Engineer                   100000   \n",
       "2     Amazon    L7               Product Manager                   310000   \n",
       "3      Apple    M1  Software Engineering Manager                   372000   \n",
       "4  Microsoft    60             Software Engineer                   157000   \n",
       "5  Microsoft    63             Software Engineer                   208000   \n",
       "6  Microsoft    65  Software Engineering Manager                   300000   \n",
       "7  Microsoft    62             Software Engineer                   156000   \n",
       "\n",
       "            location  yearsofexperience  yearsatcompany  tag  basesalary  \\\n",
       "0   Redwood City, CA                1.5             1.5  NaN    107000.0   \n",
       "1  San Francisco, CA                5.0             3.0  NaN         0.0   \n",
       "2        Seattle, WA                8.0             0.0  NaN    155000.0   \n",
       "3      Sunnyvale, CA                7.0             5.0  NaN    157000.0   \n",
       "4  Mountain View, CA                5.0             3.0  NaN         0.0   \n",
       "5        Seattle, WA                8.5             8.5  NaN         0.0   \n",
       "6        Redmond, WA               15.0            11.0  NaN    180000.0   \n",
       "7        Seattle, WA                4.0             4.0  NaN    135000.0   \n",
       "\n",
       "   stockgrantvalue    bonus Education  binary_salary  \n",
       "0          20000.0  10000.0       NaN              0  \n",
       "1              0.0      0.0       NaN              0  \n",
       "2              0.0      0.0       NaN              1  \n",
       "3         180000.0  35000.0       NaN              1  \n",
       "4              0.0      0.0       NaN              1  \n",
       "5              0.0      0.0       NaN              1  \n",
       "6          65000.0  55000.0       NaN              1  \n",
       "7           8000.0  13000.0       NaN              1  "
      ]
     },
     "execution_count": 10,
     "metadata": {},
     "output_type": "execute_result"
    }
   ],
   "source": [
    "data_raw.head(8)"
   ]
  },
  {
   "cell_type": "code",
   "execution_count": 86,
   "id": "3a2de7d5",
   "metadata": {},
   "outputs": [
    {
     "name": "stdout",
     "output_type": "stream",
     "text": [
      "<class 'pandas.core.frame.DataFrame'>\n",
      "RangeIndex: 62642 entries, 0 to 62641\n",
      "Data columns (total 13 columns):\n",
      " #   Column                   Non-Null Count  Dtype  \n",
      "---  ------                   --------------  -----  \n",
      " 0   company                  62637 non-null  object \n",
      " 1   level                    62523 non-null  object \n",
      " 2   title                    62642 non-null  object \n",
      " 3   totalyearlycompensation  62642 non-null  int64  \n",
      " 4   location                 62642 non-null  object \n",
      " 5   yearsofexperience        62642 non-null  float64\n",
      " 6   yearsatcompany           62642 non-null  float64\n",
      " 7   tag                      61788 non-null  object \n",
      " 8   basesalary               62642 non-null  float64\n",
      " 9   stockgrantvalue          62642 non-null  float64\n",
      " 10  bonus                    62642 non-null  float64\n",
      " 11  Education                30370 non-null  object \n",
      " 12  binary_salary            62642 non-null  int32  \n",
      "dtypes: float64(5), int32(1), int64(1), object(6)\n",
      "memory usage: 6.0+ MB\n"
     ]
    }
   ],
   "source": [
    "data_raw.info()"
   ]
  },
  {
   "cell_type": "markdown",
   "id": "da0063ff",
   "metadata": {},
   "source": [
    "## Признаки:\n",
    "\n",
    "company - название компании\n",
    "\n",
    "level - инженерный уровень\n",
    "\n",
    "title - название специализации\n",
    "\n",
    "totalyearlycompensation - суммарный размер ЗП\n",
    "\n",
    "location - локация офиса\n",
    "\n",
    "yearsofexperience - опыт работы\n",
    "\n",
    "yearsatcompany - время работы в данной компании\n",
    "\n",
    "tag - уровень разработчика\n",
    "\n",
    "basesalary - базовая ЗП\n",
    "\n",
    "stockgrantvalue - надбавка к ЗП\n",
    "\n",
    "bonus - премия (наверно)\n",
    "\n",
    "Education - образование\n",
    "\n",
    "binary_salary - банарная ЗП (1 = ЗП >= 150000, 0 = ЗП < 150000)"
   ]
  },
  {
   "cell_type": "code",
   "execution_count": 87,
   "id": "555353fa",
   "metadata": {},
   "outputs": [],
   "source": [
    "# Преобразуем следующие типы к категориальным\n",
    "data_raw['title'] = data_raw['title'].astype('category')\n",
    "data_raw['binary_salary'] = data_raw['binary_salary'].astype('category')"
   ]
  },
  {
   "cell_type": "code",
   "execution_count": 88,
   "id": "95f05f0d",
   "metadata": {},
   "outputs": [
    {
     "data": {
      "text/plain": [
       "CategoricalDtype(categories=['Business Analyst', 'Data Scientist', 'Hardware Engineer',\n",
       "                  'Human Resources', 'Management Consultant', 'Marketing',\n",
       "                  'Mechanical Engineer', 'Product Designer', 'Product Manager',\n",
       "                  'Recruiter', 'Sales', 'Software Engineer',\n",
       "                  'Software Engineering Manager', 'Solution Architect',\n",
       "                  'Technical Program Manager'],\n",
       ", ordered=False)"
      ]
     },
     "execution_count": 88,
     "metadata": {},
     "output_type": "execute_result"
    }
   ],
   "source": [
    "data_raw['title'].dtype"
   ]
  },
  {
   "cell_type": "code",
   "execution_count": 89,
   "id": "43e011bf",
   "metadata": {},
   "outputs": [
    {
     "data": {
      "text/plain": [
       "CategoricalDtype(categories=[0, 1], ordered=False)"
      ]
     },
     "execution_count": 89,
     "metadata": {},
     "output_type": "execute_result"
    }
   ],
   "source": [
    "data_raw['binary_salary'].dtype"
   ]
  },
  {
   "cell_type": "code",
   "execution_count": 90,
   "id": "8eee7fe1",
   "metadata": {},
   "outputs": [
    {
     "data": {
      "text/html": [
       "<div>\n",
       "<style scoped>\n",
       "    .dataframe tbody tr th:only-of-type {\n",
       "        vertical-align: middle;\n",
       "    }\n",
       "\n",
       "    .dataframe tbody tr th {\n",
       "        vertical-align: top;\n",
       "    }\n",
       "\n",
       "    .dataframe thead th {\n",
       "        text-align: right;\n",
       "    }\n",
       "</style>\n",
       "<table border=\"1\" class=\"dataframe\">\n",
       "  <thead>\n",
       "    <tr style=\"text-align: right;\">\n",
       "      <th></th>\n",
       "      <th>totalyearlycompensation</th>\n",
       "      <th>yearsofexperience</th>\n",
       "      <th>yearsatcompany</th>\n",
       "      <th>basesalary</th>\n",
       "      <th>stockgrantvalue</th>\n",
       "      <th>bonus</th>\n",
       "    </tr>\n",
       "  </thead>\n",
       "  <tbody>\n",
       "    <tr>\n",
       "      <th>count</th>\n",
       "      <td>6.264200e+04</td>\n",
       "      <td>62642.000000</td>\n",
       "      <td>62642.000000</td>\n",
       "      <td>6.264200e+04</td>\n",
       "      <td>6.264200e+04</td>\n",
       "      <td>62642.000000</td>\n",
       "    </tr>\n",
       "    <tr>\n",
       "      <th>mean</th>\n",
       "      <td>2.163004e+05</td>\n",
       "      <td>7.204135</td>\n",
       "      <td>2.702093</td>\n",
       "      <td>1.366873e+05</td>\n",
       "      <td>5.148608e+04</td>\n",
       "      <td>19334.746588</td>\n",
       "    </tr>\n",
       "    <tr>\n",
       "      <th>std</th>\n",
       "      <td>1.380337e+05</td>\n",
       "      <td>5.840375</td>\n",
       "      <td>3.263656</td>\n",
       "      <td>6.136928e+04</td>\n",
       "      <td>8.187457e+04</td>\n",
       "      <td>26781.292040</td>\n",
       "    </tr>\n",
       "    <tr>\n",
       "      <th>min</th>\n",
       "      <td>1.000000e+04</td>\n",
       "      <td>0.000000</td>\n",
       "      <td>0.000000</td>\n",
       "      <td>0.000000e+00</td>\n",
       "      <td>0.000000e+00</td>\n",
       "      <td>0.000000</td>\n",
       "    </tr>\n",
       "    <tr>\n",
       "      <th>25%</th>\n",
       "      <td>1.350000e+05</td>\n",
       "      <td>3.000000</td>\n",
       "      <td>0.000000</td>\n",
       "      <td>1.080000e+05</td>\n",
       "      <td>0.000000e+00</td>\n",
       "      <td>1000.000000</td>\n",
       "    </tr>\n",
       "    <tr>\n",
       "      <th>50%</th>\n",
       "      <td>1.880000e+05</td>\n",
       "      <td>6.000000</td>\n",
       "      <td>2.000000</td>\n",
       "      <td>1.400000e+05</td>\n",
       "      <td>2.500000e+04</td>\n",
       "      <td>14000.000000</td>\n",
       "    </tr>\n",
       "    <tr>\n",
       "      <th>75%</th>\n",
       "      <td>2.640000e+05</td>\n",
       "      <td>10.000000</td>\n",
       "      <td>4.000000</td>\n",
       "      <td>1.700000e+05</td>\n",
       "      <td>6.500000e+04</td>\n",
       "      <td>26000.000000</td>\n",
       "    </tr>\n",
       "    <tr>\n",
       "      <th>max</th>\n",
       "      <td>4.980000e+06</td>\n",
       "      <td>69.000000</td>\n",
       "      <td>69.000000</td>\n",
       "      <td>1.659870e+06</td>\n",
       "      <td>2.800000e+06</td>\n",
       "      <td>1000000.000000</td>\n",
       "    </tr>\n",
       "  </tbody>\n",
       "</table>\n",
       "</div>"
      ],
      "text/plain": [
       "       totalyearlycompensation  yearsofexperience  yearsatcompany  \\\n",
       "count             6.264200e+04       62642.000000    62642.000000   \n",
       "mean              2.163004e+05           7.204135        2.702093   \n",
       "std               1.380337e+05           5.840375        3.263656   \n",
       "min               1.000000e+04           0.000000        0.000000   \n",
       "25%               1.350000e+05           3.000000        0.000000   \n",
       "50%               1.880000e+05           6.000000        2.000000   \n",
       "75%               2.640000e+05          10.000000        4.000000   \n",
       "max               4.980000e+06          69.000000       69.000000   \n",
       "\n",
       "         basesalary  stockgrantvalue           bonus  \n",
       "count  6.264200e+04     6.264200e+04    62642.000000  \n",
       "mean   1.366873e+05     5.148608e+04    19334.746588  \n",
       "std    6.136928e+04     8.187457e+04    26781.292040  \n",
       "min    0.000000e+00     0.000000e+00        0.000000  \n",
       "25%    1.080000e+05     0.000000e+00     1000.000000  \n",
       "50%    1.400000e+05     2.500000e+04    14000.000000  \n",
       "75%    1.700000e+05     6.500000e+04    26000.000000  \n",
       "max    1.659870e+06     2.800000e+06  1000000.000000  "
      ]
     },
     "execution_count": 90,
     "metadata": {},
     "output_type": "execute_result"
    }
   ],
   "source": [
    "# генерируем описательную статистику, она обобщает центральную тенденцию, дисперсию и форму распределения набора данных, исключая Nan значения\n",
    "data_raw.describe()"
   ]
  },
  {
   "cell_type": "code",
   "execution_count": 91,
   "id": "41be0e3f",
   "metadata": {},
   "outputs": [],
   "source": [
    "# создаём корреляционную матрицу\n",
    "corr_matrix = data_raw.corr()"
   ]
  },
  {
   "cell_type": "code",
   "execution_count": 92,
   "id": "4b4cb504",
   "metadata": {},
   "outputs": [
    {
     "data": {
      "text/html": [
       "<div>\n",
       "<style scoped>\n",
       "    .dataframe tbody tr th:only-of-type {\n",
       "        vertical-align: middle;\n",
       "    }\n",
       "\n",
       "    .dataframe tbody tr th {\n",
       "        vertical-align: top;\n",
       "    }\n",
       "\n",
       "    .dataframe thead th {\n",
       "        text-align: right;\n",
       "    }\n",
       "</style>\n",
       "<table border=\"1\" class=\"dataframe\">\n",
       "  <thead>\n",
       "    <tr style=\"text-align: right;\">\n",
       "      <th></th>\n",
       "      <th>totalyearlycompensation</th>\n",
       "      <th>yearsofexperience</th>\n",
       "      <th>yearsatcompany</th>\n",
       "      <th>basesalary</th>\n",
       "      <th>stockgrantvalue</th>\n",
       "      <th>bonus</th>\n",
       "    </tr>\n",
       "  </thead>\n",
       "  <tbody>\n",
       "    <tr>\n",
       "      <th>totalyearlycompensation</th>\n",
       "      <td>1.000000</td>\n",
       "      <td>0.422879</td>\n",
       "      <td>0.165802</td>\n",
       "      <td>0.672865</td>\n",
       "      <td>0.770756</td>\n",
       "      <td>0.489454</td>\n",
       "    </tr>\n",
       "    <tr>\n",
       "      <th>yearsofexperience</th>\n",
       "      <td>0.422879</td>\n",
       "      <td>1.000000</td>\n",
       "      <td>0.522611</td>\n",
       "      <td>0.374437</td>\n",
       "      <td>0.289631</td>\n",
       "      <td>0.261051</td>\n",
       "    </tr>\n",
       "    <tr>\n",
       "      <th>yearsatcompany</th>\n",
       "      <td>0.165802</td>\n",
       "      <td>0.522611</td>\n",
       "      <td>1.000000</td>\n",
       "      <td>0.145596</td>\n",
       "      <td>0.089492</td>\n",
       "      <td>0.108122</td>\n",
       "    </tr>\n",
       "    <tr>\n",
       "      <th>basesalary</th>\n",
       "      <td>0.672865</td>\n",
       "      <td>0.374437</td>\n",
       "      <td>0.145596</td>\n",
       "      <td>1.000000</td>\n",
       "      <td>0.468266</td>\n",
       "      <td>0.394352</td>\n",
       "    </tr>\n",
       "    <tr>\n",
       "      <th>stockgrantvalue</th>\n",
       "      <td>0.770756</td>\n",
       "      <td>0.289631</td>\n",
       "      <td>0.089492</td>\n",
       "      <td>0.468266</td>\n",
       "      <td>1.000000</td>\n",
       "      <td>0.248151</td>\n",
       "    </tr>\n",
       "    <tr>\n",
       "      <th>bonus</th>\n",
       "      <td>0.489454</td>\n",
       "      <td>0.261051</td>\n",
       "      <td>0.108122</td>\n",
       "      <td>0.394352</td>\n",
       "      <td>0.248151</td>\n",
       "      <td>1.000000</td>\n",
       "    </tr>\n",
       "  </tbody>\n",
       "</table>\n",
       "</div>"
      ],
      "text/plain": [
       "                         totalyearlycompensation  yearsofexperience  \\\n",
       "totalyearlycompensation                 1.000000           0.422879   \n",
       "yearsofexperience                       0.422879           1.000000   \n",
       "yearsatcompany                          0.165802           0.522611   \n",
       "basesalary                              0.672865           0.374437   \n",
       "stockgrantvalue                         0.770756           0.289631   \n",
       "bonus                                   0.489454           0.261051   \n",
       "\n",
       "                         yearsatcompany  basesalary  stockgrantvalue     bonus  \n",
       "totalyearlycompensation        0.165802    0.672865         0.770756  0.489454  \n",
       "yearsofexperience              0.522611    0.374437         0.289631  0.261051  \n",
       "yearsatcompany                 1.000000    0.145596         0.089492  0.108122  \n",
       "basesalary                     0.145596    1.000000         0.468266  0.394352  \n",
       "stockgrantvalue                0.089492    0.468266         1.000000  0.248151  \n",
       "bonus                          0.108122    0.394352         0.248151  1.000000  "
      ]
     },
     "execution_count": 92,
     "metadata": {},
     "output_type": "execute_result"
    }
   ],
   "source": [
    "corr_matrix"
   ]
  },
  {
   "cell_type": "code",
   "execution_count": 93,
   "id": "13e08980",
   "metadata": {},
   "outputs": [
    {
     "name": "stderr",
     "output_type": "stream",
     "text": [
      "No handles with labels found to put in legend.\n"
     ]
    },
    {
     "data": {
      "image/png": "[encoded data removed]",
      "text/plain": [
       "<Figure size 1155x1080 with 42 Axes>"
      ]
     },
     "metadata": {
      "needs_background": "light"
     },
     "output_type": "display_data"
    }
   ],
   "source": [
    "# Построим все возможные диаграммы рассеивания для каждой пары переменных:\n",
    "random_subset = np.random.choice(np.arange(data_raw.shape[0]), size=1000, replace=False)\n",
    "# binary_salary = 1, когда ЗП >= 150000, и 0, если ЗП < 150000\n",
    "sns.pairplot(data_raw.iloc[random_subset], hue='binary_salary', diag_kind='hist')\n",
    "plt.legend()\n",
    "pass"
   ]
  },
  {
   "cell_type": "markdown",
   "id": "5eb2ffe7",
   "metadata": {},
   "source": [
    "## 3) Обрабатываем пропущенные значения "
   ]
  },
  {
   "cell_type": "markdown",
   "id": "d78b6ff5",
   "metadata": {},
   "source": [
    "Под пропущенными значениями в таблице понимаются значения np.nan"
   ]
  },
  {
   "cell_type": "code",
   "execution_count": 94,
   "id": "e2451b15",
   "metadata": {},
   "outputs": [
    {
     "data": {
      "text/html": [
       "<div>\n",
       "<style scoped>\n",
       "    .dataframe tbody tr th:only-of-type {\n",
       "        vertical-align: middle;\n",
       "    }\n",
       "\n",
       "    .dataframe tbody tr th {\n",
       "        vertical-align: top;\n",
       "    }\n",
       "\n",
       "    .dataframe thead th {\n",
       "        text-align: right;\n",
       "    }\n",
       "</style>\n",
       "<table border=\"1\" class=\"dataframe\">\n",
       "  <thead>\n",
       "    <tr style=\"text-align: right;\">\n",
       "      <th></th>\n",
       "      <th>company</th>\n",
       "      <th>level</th>\n",
       "      <th>title</th>\n",
       "      <th>totalyearlycompensation</th>\n",
       "      <th>location</th>\n",
       "      <th>yearsofexperience</th>\n",
       "      <th>yearsatcompany</th>\n",
       "      <th>tag</th>\n",
       "      <th>basesalary</th>\n",
       "      <th>stockgrantvalue</th>\n",
       "      <th>bonus</th>\n",
       "      <th>Education</th>\n",
       "      <th>binary_salary</th>\n",
       "    </tr>\n",
       "  </thead>\n",
       "  <tbody>\n",
       "    <tr>\n",
       "      <th>0</th>\n",
       "      <td>False</td>\n",
       "      <td>False</td>\n",
       "      <td>False</td>\n",
       "      <td>False</td>\n",
       "      <td>False</td>\n",
       "      <td>False</td>\n",
       "      <td>False</td>\n",
       "      <td>True</td>\n",
       "      <td>False</td>\n",
       "      <td>False</td>\n",
       "      <td>False</td>\n",
       "      <td>True</td>\n",
       "      <td>False</td>\n",
       "    </tr>\n",
       "    <tr>\n",
       "      <th>1</th>\n",
       "      <td>False</td>\n",
       "      <td>False</td>\n",
       "      <td>False</td>\n",
       "      <td>False</td>\n",
       "      <td>False</td>\n",
       "      <td>False</td>\n",
       "      <td>False</td>\n",
       "      <td>True</td>\n",
       "      <td>False</td>\n",
       "      <td>False</td>\n",
       "      <td>False</td>\n",
       "      <td>True</td>\n",
       "      <td>False</td>\n",
       "    </tr>\n",
       "    <tr>\n",
       "      <th>2</th>\n",
       "      <td>False</td>\n",
       "      <td>False</td>\n",
       "      <td>False</td>\n",
       "      <td>False</td>\n",
       "      <td>False</td>\n",
       "      <td>False</td>\n",
       "      <td>False</td>\n",
       "      <td>True</td>\n",
       "      <td>False</td>\n",
       "      <td>False</td>\n",
       "      <td>False</td>\n",
       "      <td>True</td>\n",
       "      <td>False</td>\n",
       "    </tr>\n",
       "    <tr>\n",
       "      <th>3</th>\n",
       "      <td>False</td>\n",
       "      <td>False</td>\n",
       "      <td>False</td>\n",
       "      <td>False</td>\n",
       "      <td>False</td>\n",
       "      <td>False</td>\n",
       "      <td>False</td>\n",
       "      <td>True</td>\n",
       "      <td>False</td>\n",
       "      <td>False</td>\n",
       "      <td>False</td>\n",
       "      <td>True</td>\n",
       "      <td>False</td>\n",
       "    </tr>\n",
       "    <tr>\n",
       "      <th>4</th>\n",
       "      <td>False</td>\n",
       "      <td>False</td>\n",
       "      <td>False</td>\n",
       "      <td>False</td>\n",
       "      <td>False</td>\n",
       "      <td>False</td>\n",
       "      <td>False</td>\n",
       "      <td>True</td>\n",
       "      <td>False</td>\n",
       "      <td>False</td>\n",
       "      <td>False</td>\n",
       "      <td>True</td>\n",
       "      <td>False</td>\n",
       "    </tr>\n",
       "    <tr>\n",
       "      <th>...</th>\n",
       "      <td>...</td>\n",
       "      <td>...</td>\n",
       "      <td>...</td>\n",
       "      <td>...</td>\n",
       "      <td>...</td>\n",
       "      <td>...</td>\n",
       "      <td>...</td>\n",
       "      <td>...</td>\n",
       "      <td>...</td>\n",
       "      <td>...</td>\n",
       "      <td>...</td>\n",
       "      <td>...</td>\n",
       "      <td>...</td>\n",
       "    </tr>\n",
       "    <tr>\n",
       "      <th>62637</th>\n",
       "      <td>False</td>\n",
       "      <td>False</td>\n",
       "      <td>False</td>\n",
       "      <td>False</td>\n",
       "      <td>False</td>\n",
       "      <td>False</td>\n",
       "      <td>False</td>\n",
       "      <td>False</td>\n",
       "      <td>False</td>\n",
       "      <td>False</td>\n",
       "      <td>False</td>\n",
       "      <td>True</td>\n",
       "      <td>False</td>\n",
       "    </tr>\n",
       "    <tr>\n",
       "      <th>62638</th>\n",
       "      <td>False</td>\n",
       "      <td>False</td>\n",
       "      <td>False</td>\n",
       "      <td>False</td>\n",
       "      <td>False</td>\n",
       "      <td>False</td>\n",
       "      <td>False</td>\n",
       "      <td>False</td>\n",
       "      <td>False</td>\n",
       "      <td>False</td>\n",
       "      <td>False</td>\n",
       "      <td>True</td>\n",
       "      <td>False</td>\n",
       "    </tr>\n",
       "    <tr>\n",
       "      <th>62639</th>\n",
       "      <td>False</td>\n",
       "      <td>False</td>\n",
       "      <td>False</td>\n",
       "      <td>False</td>\n",
       "      <td>False</td>\n",
       "      <td>False</td>\n",
       "      <td>False</td>\n",
       "      <td>False</td>\n",
       "      <td>False</td>\n",
       "      <td>False</td>\n",
       "      <td>False</td>\n",
       "      <td>True</td>\n",
       "      <td>False</td>\n",
       "    </tr>\n",
       "    <tr>\n",
       "      <th>62640</th>\n",
       "      <td>False</td>\n",
       "      <td>False</td>\n",
       "      <td>False</td>\n",
       "      <td>False</td>\n",
       "      <td>False</td>\n",
       "      <td>False</td>\n",
       "      <td>False</td>\n",
       "      <td>False</td>\n",
       "      <td>False</td>\n",
       "      <td>False</td>\n",
       "      <td>False</td>\n",
       "      <td>True</td>\n",
       "      <td>False</td>\n",
       "    </tr>\n",
       "    <tr>\n",
       "      <th>62641</th>\n",
       "      <td>False</td>\n",
       "      <td>False</td>\n",
       "      <td>False</td>\n",
       "      <td>False</td>\n",
       "      <td>False</td>\n",
       "      <td>False</td>\n",
       "      <td>False</td>\n",
       "      <td>False</td>\n",
       "      <td>False</td>\n",
       "      <td>False</td>\n",
       "      <td>False</td>\n",
       "      <td>True</td>\n",
       "      <td>False</td>\n",
       "    </tr>\n",
       "  </tbody>\n",
       "</table>\n",
       "<p>62642 rows × 13 columns</p>\n",
       "</div>"
      ],
      "text/plain": [
       "       company  level  title  totalyearlycompensation  location  \\\n",
       "0        False  False  False                    False     False   \n",
       "1        False  False  False                    False     False   \n",
       "2        False  False  False                    False     False   \n",
       "3        False  False  False                    False     False   \n",
       "4        False  False  False                    False     False   \n",
       "...        ...    ...    ...                      ...       ...   \n",
       "62637    False  False  False                    False     False   \n",
       "62638    False  False  False                    False     False   \n",
       "62639    False  False  False                    False     False   \n",
       "62640    False  False  False                    False     False   \n",
       "62641    False  False  False                    False     False   \n",
       "\n",
       "       yearsofexperience  yearsatcompany    tag  basesalary  stockgrantvalue  \\\n",
       "0                  False           False   True       False            False   \n",
       "1                  False           False   True       False            False   \n",
       "2                  False           False   True       False            False   \n",
       "3                  False           False   True       False            False   \n",
       "4                  False           False   True       False            False   \n",
       "...                  ...             ...    ...         ...              ...   \n",
       "62637              False           False  False       False            False   \n",
       "62638              False           False  False       False            False   \n",
       "62639              False           False  False       False            False   \n",
       "62640              False           False  False       False            False   \n",
       "62641              False           False  False       False            False   \n",
       "\n",
       "       bonus  Education  binary_salary  \n",
       "0      False       True          False  \n",
       "1      False       True          False  \n",
       "2      False       True          False  \n",
       "3      False       True          False  \n",
       "4      False       True          False  \n",
       "...      ...        ...            ...  \n",
       "62637  False       True          False  \n",
       "62638  False       True          False  \n",
       "62639  False       True          False  \n",
       "62640  False       True          False  \n",
       "62641  False       True          False  \n",
       "\n",
       "[62642 rows x 13 columns]"
      ]
     },
     "execution_count": 94,
     "metadata": {},
     "output_type": "execute_result"
    }
   ],
   "source": [
    "# Эта функция заменит в таблице значения с Nan на True, а все остальные значения на False\n",
    "data_raw.isna()"
   ]
  },
  {
   "cell_type": "code",
   "execution_count": 95,
   "id": "81fc9da1",
   "metadata": {},
   "outputs": [
    {
     "data": {
      "text/plain": [
       "company                        5\n",
       "level                        119\n",
       "title                          0\n",
       "totalyearlycompensation        0\n",
       "location                       0\n",
       "yearsofexperience              0\n",
       "yearsatcompany                 0\n",
       "tag                          854\n",
       "basesalary                     0\n",
       "stockgrantvalue                0\n",
       "bonus                          0\n",
       "Education                  32272\n",
       "binary_salary                  0\n",
       "dtype: int64"
      ]
     },
     "execution_count": 95,
     "metadata": {},
     "output_type": "execute_result"
    }
   ],
   "source": [
    "# Покажем сколько пропусков есть в каждом признаке(столбце)\n",
    "data_raw.isna().sum()"
   ]
  },
  {
   "cell_type": "code",
   "execution_count": 96,
   "id": "d042864a",
   "metadata": {},
   "outputs": [],
   "source": [
    "# Заполним медианами пропущенные значения в столбцах (поэтому axis = 0), соответствующих числовым признакам\n",
    "data_raw.fillna(data_raw.median(axis = 0), axis=0 , inplace=True)"
   ]
  },
  {
   "cell_type": "code",
   "execution_count": 97,
   "id": "456ecf8d",
   "metadata": {},
   "outputs": [
    {
     "data": {
      "text/plain": [
       "company                        5\n",
       "level                        119\n",
       "title                          0\n",
       "totalyearlycompensation        0\n",
       "location                       0\n",
       "yearsofexperience              0\n",
       "yearsatcompany                 0\n",
       "tag                          854\n",
       "basesalary                     0\n",
       "stockgrantvalue                0\n",
       "bonus                          0\n",
       "Education                  32272\n",
       "binary_salary                  0\n",
       "dtype: int64"
      ]
     },
     "execution_count": 97,
     "metadata": {},
     "output_type": "execute_result"
    }
   ],
   "source": [
    "data_raw.isna().sum()"
   ]
  },
  {
   "cell_type": "code",
   "execution_count": 98,
   "id": "0e89c327",
   "metadata": {},
   "outputs": [],
   "source": [
    "# Пропущенные значения в столбцах, соответствующих категориальным признакам, заполним модой:\n",
    "data_raw['company'].fillna(data_raw['company'].mode().iloc[0], inplace=True)\n",
    "data_raw['level'].fillna(data_raw['level'].mode().iloc[0], inplace=True)\n",
    "data_raw['tag'].fillna(data_raw['tag'].mode().iloc[0], inplace=True)\n",
    "data_raw['Education'].fillna(data_raw['Education'].mode().iloc[0], inplace=True)"
   ]
  },
  {
   "cell_type": "code",
   "execution_count": 99,
   "id": "1bd851b0",
   "metadata": {},
   "outputs": [
    {
     "data": {
      "text/plain": [
       "company                    0\n",
       "level                      0\n",
       "title                      0\n",
       "totalyearlycompensation    0\n",
       "location                   0\n",
       "yearsofexperience          0\n",
       "yearsatcompany             0\n",
       "tag                        0\n",
       "basesalary                 0\n",
       "stockgrantvalue            0\n",
       "bonus                      0\n",
       "Education                  0\n",
       "binary_salary              0\n",
       "dtype: int64"
      ]
     },
     "execution_count": 99,
     "metadata": {},
     "output_type": "execute_result"
    }
   ],
   "source": [
    "# Убеждаемся, что теперь пропусков нет\n",
    "data_raw.isna().sum()"
   ]
  },
  {
   "cell_type": "code",
   "execution_count": 100,
   "id": "8c943190",
   "metadata": {},
   "outputs": [
    {
     "data": {
      "text/html": [
       "<div>\n",
       "<style scoped>\n",
       "    .dataframe tbody tr th:only-of-type {\n",
       "        vertical-align: middle;\n",
       "    }\n",
       "\n",
       "    .dataframe tbody tr th {\n",
       "        vertical-align: top;\n",
       "    }\n",
       "\n",
       "    .dataframe thead th {\n",
       "        text-align: right;\n",
       "    }\n",
       "</style>\n",
       "<table border=\"1\" class=\"dataframe\">\n",
       "  <thead>\n",
       "    <tr style=\"text-align: right;\">\n",
       "      <th></th>\n",
       "      <th>company</th>\n",
       "      <th>level</th>\n",
       "      <th>title</th>\n",
       "      <th>totalyearlycompensation</th>\n",
       "      <th>location</th>\n",
       "      <th>yearsofexperience</th>\n",
       "      <th>yearsatcompany</th>\n",
       "      <th>tag</th>\n",
       "      <th>basesalary</th>\n",
       "      <th>stockgrantvalue</th>\n",
       "      <th>bonus</th>\n",
       "      <th>Education</th>\n",
       "      <th>binary_salary</th>\n",
       "    </tr>\n",
       "  </thead>\n",
       "  <tbody>\n",
       "    <tr>\n",
       "      <th>0</th>\n",
       "      <td>Oracle</td>\n",
       "      <td>L3</td>\n",
       "      <td>Product Manager</td>\n",
       "      <td>127000</td>\n",
       "      <td>Redwood City, CA</td>\n",
       "      <td>1.5</td>\n",
       "      <td>1.5</td>\n",
       "      <td>Full Stack</td>\n",
       "      <td>107000.0</td>\n",
       "      <td>20000.0</td>\n",
       "      <td>10000.0</td>\n",
       "      <td>Master's Degree</td>\n",
       "      <td>0</td>\n",
       "    </tr>\n",
       "    <tr>\n",
       "      <th>1</th>\n",
       "      <td>eBay</td>\n",
       "      <td>SE 2</td>\n",
       "      <td>Software Engineer</td>\n",
       "      <td>100000</td>\n",
       "      <td>San Francisco, CA</td>\n",
       "      <td>5.0</td>\n",
       "      <td>3.0</td>\n",
       "      <td>Full Stack</td>\n",
       "      <td>0.0</td>\n",
       "      <td>0.0</td>\n",
       "      <td>0.0</td>\n",
       "      <td>Master's Degree</td>\n",
       "      <td>0</td>\n",
       "    </tr>\n",
       "    <tr>\n",
       "      <th>2</th>\n",
       "      <td>Amazon</td>\n",
       "      <td>L7</td>\n",
       "      <td>Product Manager</td>\n",
       "      <td>310000</td>\n",
       "      <td>Seattle, WA</td>\n",
       "      <td>8.0</td>\n",
       "      <td>0.0</td>\n",
       "      <td>Full Stack</td>\n",
       "      <td>155000.0</td>\n",
       "      <td>0.0</td>\n",
       "      <td>0.0</td>\n",
       "      <td>Master's Degree</td>\n",
       "      <td>1</td>\n",
       "    </tr>\n",
       "    <tr>\n",
       "      <th>3</th>\n",
       "      <td>Apple</td>\n",
       "      <td>M1</td>\n",
       "      <td>Software Engineering Manager</td>\n",
       "      <td>372000</td>\n",
       "      <td>Sunnyvale, CA</td>\n",
       "      <td>7.0</td>\n",
       "      <td>5.0</td>\n",
       "      <td>Full Stack</td>\n",
       "      <td>157000.0</td>\n",
       "      <td>180000.0</td>\n",
       "      <td>35000.0</td>\n",
       "      <td>Master's Degree</td>\n",
       "      <td>1</td>\n",
       "    </tr>\n",
       "    <tr>\n",
       "      <th>4</th>\n",
       "      <td>Microsoft</td>\n",
       "      <td>60</td>\n",
       "      <td>Software Engineer</td>\n",
       "      <td>157000</td>\n",
       "      <td>Mountain View, CA</td>\n",
       "      <td>5.0</td>\n",
       "      <td>3.0</td>\n",
       "      <td>Full Stack</td>\n",
       "      <td>0.0</td>\n",
       "      <td>0.0</td>\n",
       "      <td>0.0</td>\n",
       "      <td>Master's Degree</td>\n",
       "      <td>1</td>\n",
       "    </tr>\n",
       "    <tr>\n",
       "      <th>5</th>\n",
       "      <td>Microsoft</td>\n",
       "      <td>63</td>\n",
       "      <td>Software Engineer</td>\n",
       "      <td>208000</td>\n",
       "      <td>Seattle, WA</td>\n",
       "      <td>8.5</td>\n",
       "      <td>8.5</td>\n",
       "      <td>Full Stack</td>\n",
       "      <td>0.0</td>\n",
       "      <td>0.0</td>\n",
       "      <td>0.0</td>\n",
       "      <td>Master's Degree</td>\n",
       "      <td>1</td>\n",
       "    </tr>\n",
       "    <tr>\n",
       "      <th>6</th>\n",
       "      <td>Microsoft</td>\n",
       "      <td>65</td>\n",
       "      <td>Software Engineering Manager</td>\n",
       "      <td>300000</td>\n",
       "      <td>Redmond, WA</td>\n",
       "      <td>15.0</td>\n",
       "      <td>11.0</td>\n",
       "      <td>Full Stack</td>\n",
       "      <td>180000.0</td>\n",
       "      <td>65000.0</td>\n",
       "      <td>55000.0</td>\n",
       "      <td>Master's Degree</td>\n",
       "      <td>1</td>\n",
       "    </tr>\n",
       "    <tr>\n",
       "      <th>7</th>\n",
       "      <td>Microsoft</td>\n",
       "      <td>62</td>\n",
       "      <td>Software Engineer</td>\n",
       "      <td>156000</td>\n",
       "      <td>Seattle, WA</td>\n",
       "      <td>4.0</td>\n",
       "      <td>4.0</td>\n",
       "      <td>Full Stack</td>\n",
       "      <td>135000.0</td>\n",
       "      <td>8000.0</td>\n",
       "      <td>13000.0</td>\n",
       "      <td>Master's Degree</td>\n",
       "      <td>1</td>\n",
       "    </tr>\n",
       "  </tbody>\n",
       "</table>\n",
       "</div>"
      ],
      "text/plain": [
       "     company level                         title  totalyearlycompensation  \\\n",
       "0     Oracle    L3               Product Manager                   127000   \n",
       "1       eBay  SE 2             Software Engineer                   100000   \n",
       "2     Amazon    L7               Product Manager                   310000   \n",
       "3      Apple    M1  Software Engineering Manager                   372000   \n",
       "4  Microsoft    60             Software Engineer                   157000   \n",
       "5  Microsoft    63             Software Engineer                   208000   \n",
       "6  Microsoft    65  Software Engineering Manager                   300000   \n",
       "7  Microsoft    62             Software Engineer                   156000   \n",
       "\n",
       "            location  yearsofexperience  yearsatcompany         tag  \\\n",
       "0   Redwood City, CA                1.5             1.5  Full Stack   \n",
       "1  San Francisco, CA                5.0             3.0  Full Stack   \n",
       "2        Seattle, WA                8.0             0.0  Full Stack   \n",
       "3      Sunnyvale, CA                7.0             5.0  Full Stack   \n",
       "4  Mountain View, CA                5.0             3.0  Full Stack   \n",
       "5        Seattle, WA                8.5             8.5  Full Stack   \n",
       "6        Redmond, WA               15.0            11.0  Full Stack   \n",
       "7        Seattle, WA                4.0             4.0  Full Stack   \n",
       "\n",
       "   basesalary  stockgrantvalue    bonus        Education binary_salary  \n",
       "0    107000.0          20000.0  10000.0  Master's Degree             0  \n",
       "1         0.0              0.0      0.0  Master's Degree             0  \n",
       "2    155000.0              0.0      0.0  Master's Degree             1  \n",
       "3    157000.0         180000.0  35000.0  Master's Degree             1  \n",
       "4         0.0              0.0      0.0  Master's Degree             1  \n",
       "5         0.0              0.0      0.0  Master's Degree             1  \n",
       "6    180000.0          65000.0  55000.0  Master's Degree             1  \n",
       "7    135000.0           8000.0  13000.0  Master's Degree             1  "
      ]
     },
     "execution_count": 100,
     "metadata": {},
     "output_type": "execute_result"
    }
   ],
   "source": [
    "data_raw.head(8)"
   ]
  },
  {
   "cell_type": "markdown",
   "id": "59c8f647",
   "metadata": {},
   "source": [
    "## 4) Обрабатываем категориальные(номинальные) признаки"
   ]
  },
  {
   "cell_type": "markdown",
   "id": "372fcc8d",
   "metadata": {},
   "source": [
    "Алгоритмы из библиотеки scikit-learn (почти) не умеют работать напрямую с категориальными признаками. Поэтому их вначале надо закодировать с помощью числовых принаков."
   ]
  },
  {
   "cell_type": "code",
   "execution_count": 101,
   "id": "48b5dc04",
   "metadata": {},
   "outputs": [],
   "source": [
    "# Отберём подтаблицу с самыми нужными признаками и далее будем работать с ней\n",
    "data_new = data_raw.loc[:, ['company', 'title', 'totalyearlycompensation', 'location', 'yearsofexperience',\n",
    "                            'yearsatcompany', 'tag', 'Education', 'binary_salary']].copy()"
   ]
  },
  {
   "cell_type": "code",
   "execution_count": 102,
   "id": "c9529669",
   "metadata": {},
   "outputs": [
    {
     "data": {
      "text/html": [
       "<div>\n",
       "<style scoped>\n",
       "    .dataframe tbody tr th:only-of-type {\n",
       "        vertical-align: middle;\n",
       "    }\n",
       "\n",
       "    .dataframe tbody tr th {\n",
       "        vertical-align: top;\n",
       "    }\n",
       "\n",
       "    .dataframe thead th {\n",
       "        text-align: right;\n",
       "    }\n",
       "</style>\n",
       "<table border=\"1\" class=\"dataframe\">\n",
       "  <thead>\n",
       "    <tr style=\"text-align: right;\">\n",
       "      <th></th>\n",
       "      <th>company</th>\n",
       "      <th>title</th>\n",
       "      <th>totalyearlycompensation</th>\n",
       "      <th>location</th>\n",
       "      <th>yearsofexperience</th>\n",
       "      <th>yearsatcompany</th>\n",
       "      <th>tag</th>\n",
       "      <th>Education</th>\n",
       "      <th>binary_salary</th>\n",
       "    </tr>\n",
       "  </thead>\n",
       "  <tbody>\n",
       "    <tr>\n",
       "      <th>0</th>\n",
       "      <td>Oracle</td>\n",
       "      <td>Product Manager</td>\n",
       "      <td>127000</td>\n",
       "      <td>Redwood City, CA</td>\n",
       "      <td>1.5</td>\n",
       "      <td>1.5</td>\n",
       "      <td>Full Stack</td>\n",
       "      <td>Master's Degree</td>\n",
       "      <td>0</td>\n",
       "    </tr>\n",
       "    <tr>\n",
       "      <th>1</th>\n",
       "      <td>eBay</td>\n",
       "      <td>Software Engineer</td>\n",
       "      <td>100000</td>\n",
       "      <td>San Francisco, CA</td>\n",
       "      <td>5.0</td>\n",
       "      <td>3.0</td>\n",
       "      <td>Full Stack</td>\n",
       "      <td>Master's Degree</td>\n",
       "      <td>0</td>\n",
       "    </tr>\n",
       "    <tr>\n",
       "      <th>2</th>\n",
       "      <td>Amazon</td>\n",
       "      <td>Product Manager</td>\n",
       "      <td>310000</td>\n",
       "      <td>Seattle, WA</td>\n",
       "      <td>8.0</td>\n",
       "      <td>0.0</td>\n",
       "      <td>Full Stack</td>\n",
       "      <td>Master's Degree</td>\n",
       "      <td>1</td>\n",
       "    </tr>\n",
       "    <tr>\n",
       "      <th>3</th>\n",
       "      <td>Apple</td>\n",
       "      <td>Software Engineering Manager</td>\n",
       "      <td>372000</td>\n",
       "      <td>Sunnyvale, CA</td>\n",
       "      <td>7.0</td>\n",
       "      <td>5.0</td>\n",
       "      <td>Full Stack</td>\n",
       "      <td>Master's Degree</td>\n",
       "      <td>1</td>\n",
       "    </tr>\n",
       "    <tr>\n",
       "      <th>4</th>\n",
       "      <td>Microsoft</td>\n",
       "      <td>Software Engineer</td>\n",
       "      <td>157000</td>\n",
       "      <td>Mountain View, CA</td>\n",
       "      <td>5.0</td>\n",
       "      <td>3.0</td>\n",
       "      <td>Full Stack</td>\n",
       "      <td>Master's Degree</td>\n",
       "      <td>1</td>\n",
       "    </tr>\n",
       "  </tbody>\n",
       "</table>\n",
       "</div>"
      ],
      "text/plain": [
       "     company                         title  totalyearlycompensation  \\\n",
       "0     Oracle               Product Manager                   127000   \n",
       "1       eBay             Software Engineer                   100000   \n",
       "2     Amazon               Product Manager                   310000   \n",
       "3      Apple  Software Engineering Manager                   372000   \n",
       "4  Microsoft             Software Engineer                   157000   \n",
       "\n",
       "            location  yearsofexperience  yearsatcompany         tag  \\\n",
       "0   Redwood City, CA                1.5             1.5  Full Stack   \n",
       "1  San Francisco, CA                5.0             3.0  Full Stack   \n",
       "2        Seattle, WA                8.0             0.0  Full Stack   \n",
       "3      Sunnyvale, CA                7.0             5.0  Full Stack   \n",
       "4  Mountain View, CA                5.0             3.0  Full Stack   \n",
       "\n",
       "         Education binary_salary  \n",
       "0  Master's Degree             0  \n",
       "1  Master's Degree             0  \n",
       "2  Master's Degree             1  \n",
       "3  Master's Degree             1  \n",
       "4  Master's Degree             1  "
      ]
     },
     "execution_count": 102,
     "metadata": {},
     "output_type": "execute_result"
    }
   ],
   "source": [
    "data_new.head()"
   ]
  },
  {
   "cell_type": "code",
   "execution_count": 103,
   "id": "6d5d02a2",
   "metadata": {},
   "outputs": [],
   "source": [
    "# Категориальный (Бинарный) признак 'binary_salary' заменим на числовой.\n",
    "data_new['binary_salary'] = pd.factorize(data_new['binary_salary'])[0]"
   ]
  },
  {
   "cell_type": "code",
   "execution_count": 104,
   "id": "6ce79aec",
   "metadata": {},
   "outputs": [],
   "source": [
    "# К категориальному (небинарному) признаку 'title' применим метод бинаризации (one-hot encoding)\n",
    "title_dummies = pd.get_dummies(data_new['title'])"
   ]
  },
  {
   "cell_type": "code",
   "execution_count": 105,
   "id": "91600b39",
   "metadata": {},
   "outputs": [],
   "source": [
    "# Добавим эти dummy-столбцы к таблице и удалим столбец Runtime:\n",
    "data_new = pd.concat((data_new, title_dummies), axis=1)\n",
    "data_new = data_new.drop(['title'], axis=1)"
   ]
  },
  {
   "cell_type": "code",
   "execution_count": 106,
   "id": "41d2c5b2",
   "metadata": {},
   "outputs": [
    {
     "data": {
      "text/html": [
       "<div>\n",
       "<style scoped>\n",
       "    .dataframe tbody tr th:only-of-type {\n",
       "        vertical-align: middle;\n",
       "    }\n",
       "\n",
       "    .dataframe tbody tr th {\n",
       "        vertical-align: top;\n",
       "    }\n",
       "\n",
       "    .dataframe thead th {\n",
       "        text-align: right;\n",
       "    }\n",
       "</style>\n",
       "<table border=\"1\" class=\"dataframe\">\n",
       "  <thead>\n",
       "    <tr style=\"text-align: right;\">\n",
       "      <th></th>\n",
       "      <th>company</th>\n",
       "      <th>totalyearlycompensation</th>\n",
       "      <th>location</th>\n",
       "      <th>yearsofexperience</th>\n",
       "      <th>yearsatcompany</th>\n",
       "      <th>tag</th>\n",
       "      <th>Education</th>\n",
       "      <th>binary_salary</th>\n",
       "      <th>Business Analyst</th>\n",
       "      <th>Data Scientist</th>\n",
       "      <th>...</th>\n",
       "      <th>Marketing</th>\n",
       "      <th>Mechanical Engineer</th>\n",
       "      <th>Product Designer</th>\n",
       "      <th>Product Manager</th>\n",
       "      <th>Recruiter</th>\n",
       "      <th>Sales</th>\n",
       "      <th>Software Engineer</th>\n",
       "      <th>Software Engineering Manager</th>\n",
       "      <th>Solution Architect</th>\n",
       "      <th>Technical Program Manager</th>\n",
       "    </tr>\n",
       "  </thead>\n",
       "  <tbody>\n",
       "    <tr>\n",
       "      <th>0</th>\n",
       "      <td>Oracle</td>\n",
       "      <td>127000</td>\n",
       "      <td>Redwood City, CA</td>\n",
       "      <td>1.5</td>\n",
       "      <td>1.5</td>\n",
       "      <td>Full Stack</td>\n",
       "      <td>Master's Degree</td>\n",
       "      <td>0</td>\n",
       "      <td>0</td>\n",
       "      <td>0</td>\n",
       "      <td>...</td>\n",
       "      <td>0</td>\n",
       "      <td>0</td>\n",
       "      <td>0</td>\n",
       "      <td>1</td>\n",
       "      <td>0</td>\n",
       "      <td>0</td>\n",
       "      <td>0</td>\n",
       "      <td>0</td>\n",
       "      <td>0</td>\n",
       "      <td>0</td>\n",
       "    </tr>\n",
       "    <tr>\n",
       "      <th>1</th>\n",
       "      <td>eBay</td>\n",
       "      <td>100000</td>\n",
       "      <td>San Francisco, CA</td>\n",
       "      <td>5.0</td>\n",
       "      <td>3.0</td>\n",
       "      <td>Full Stack</td>\n",
       "      <td>Master's Degree</td>\n",
       "      <td>0</td>\n",
       "      <td>0</td>\n",
       "      <td>0</td>\n",
       "      <td>...</td>\n",
       "      <td>0</td>\n",
       "      <td>0</td>\n",
       "      <td>0</td>\n",
       "      <td>0</td>\n",
       "      <td>0</td>\n",
       "      <td>0</td>\n",
       "      <td>1</td>\n",
       "      <td>0</td>\n",
       "      <td>0</td>\n",
       "      <td>0</td>\n",
       "    </tr>\n",
       "    <tr>\n",
       "      <th>2</th>\n",
       "      <td>Amazon</td>\n",
       "      <td>310000</td>\n",
       "      <td>Seattle, WA</td>\n",
       "      <td>8.0</td>\n",
       "      <td>0.0</td>\n",
       "      <td>Full Stack</td>\n",
       "      <td>Master's Degree</td>\n",
       "      <td>1</td>\n",
       "      <td>0</td>\n",
       "      <td>0</td>\n",
       "      <td>...</td>\n",
       "      <td>0</td>\n",
       "      <td>0</td>\n",
       "      <td>0</td>\n",
       "      <td>1</td>\n",
       "      <td>0</td>\n",
       "      <td>0</td>\n",
       "      <td>0</td>\n",
       "      <td>0</td>\n",
       "      <td>0</td>\n",
       "      <td>0</td>\n",
       "    </tr>\n",
       "    <tr>\n",
       "      <th>3</th>\n",
       "      <td>Apple</td>\n",
       "      <td>372000</td>\n",
       "      <td>Sunnyvale, CA</td>\n",
       "      <td>7.0</td>\n",
       "      <td>5.0</td>\n",
       "      <td>Full Stack</td>\n",
       "      <td>Master's Degree</td>\n",
       "      <td>1</td>\n",
       "      <td>0</td>\n",
       "      <td>0</td>\n",
       "      <td>...</td>\n",
       "      <td>0</td>\n",
       "      <td>0</td>\n",
       "      <td>0</td>\n",
       "      <td>0</td>\n",
       "      <td>0</td>\n",
       "      <td>0</td>\n",
       "      <td>0</td>\n",
       "      <td>1</td>\n",
       "      <td>0</td>\n",
       "      <td>0</td>\n",
       "    </tr>\n",
       "    <tr>\n",
       "      <th>4</th>\n",
       "      <td>Microsoft</td>\n",
       "      <td>157000</td>\n",
       "      <td>Mountain View, CA</td>\n",
       "      <td>5.0</td>\n",
       "      <td>3.0</td>\n",
       "      <td>Full Stack</td>\n",
       "      <td>Master's Degree</td>\n",
       "      <td>1</td>\n",
       "      <td>0</td>\n",
       "      <td>0</td>\n",
       "      <td>...</td>\n",
       "      <td>0</td>\n",
       "      <td>0</td>\n",
       "      <td>0</td>\n",
       "      <td>0</td>\n",
       "      <td>0</td>\n",
       "      <td>0</td>\n",
       "      <td>1</td>\n",
       "      <td>0</td>\n",
       "      <td>0</td>\n",
       "      <td>0</td>\n",
       "    </tr>\n",
       "  </tbody>\n",
       "</table>\n",
       "<p>5 rows × 23 columns</p>\n",
       "</div>"
      ],
      "text/plain": [
       "     company  totalyearlycompensation           location  yearsofexperience  \\\n",
       "0     Oracle                   127000   Redwood City, CA                1.5   \n",
       "1       eBay                   100000  San Francisco, CA                5.0   \n",
       "2     Amazon                   310000        Seattle, WA                8.0   \n",
       "3      Apple                   372000      Sunnyvale, CA                7.0   \n",
       "4  Microsoft                   157000  Mountain View, CA                5.0   \n",
       "\n",
       "   yearsatcompany         tag        Education  binary_salary  \\\n",
       "0             1.5  Full Stack  Master's Degree              0   \n",
       "1             3.0  Full Stack  Master's Degree              0   \n",
       "2             0.0  Full Stack  Master's Degree              1   \n",
       "3             5.0  Full Stack  Master's Degree              1   \n",
       "4             3.0  Full Stack  Master's Degree              1   \n",
       "\n",
       "   Business Analyst  Data Scientist  ...  Marketing  Mechanical Engineer  \\\n",
       "0                 0               0  ...          0                    0   \n",
       "1                 0               0  ...          0                    0   \n",
       "2                 0               0  ...          0                    0   \n",
       "3                 0               0  ...          0                    0   \n",
       "4                 0               0  ...          0                    0   \n",
       "\n",
       "   Product Designer  Product Manager  Recruiter  Sales  Software Engineer  \\\n",
       "0                 0                1          0      0                  0   \n",
       "1                 0                0          0      0                  1   \n",
       "2                 0                1          0      0                  0   \n",
       "3                 0                0          0      0                  0   \n",
       "4                 0                0          0      0                  1   \n",
       "\n",
       "   Software Engineering Manager  Solution Architect  Technical Program Manager  \n",
       "0                             0                   0                          0  \n",
       "1                             0                   0                          0  \n",
       "2                             0                   0                          0  \n",
       "3                             1                   0                          0  \n",
       "4                             0                   0                          0  \n",
       "\n",
       "[5 rows x 23 columns]"
      ]
     },
     "execution_count": 106,
     "metadata": {},
     "output_type": "execute_result"
    }
   ],
   "source": [
    "data_new.head() # вот что изменилось"
   ]
  },
  {
   "cell_type": "markdown",
   "id": "a0046790",
   "metadata": {},
   "source": [
    "## 5) Нормализация количественных признаков"
   ]
  },
  {
   "cell_type": "code",
   "execution_count": 107,
   "id": "599d5c83",
   "metadata": {},
   "outputs": [],
   "source": [
    "# Перед применением алгоритмов машинного обучения количественные признаки полезно нормализовать\n",
    "# Будем использовать стандартизацию - линейное преобразование, приводящее все значения к нулевому среднему и единичному стандартному отклонению\n",
    "# Выполним стандартизацию всех признаков:\n",
    "data_stand = (data_new - data_new.mean(axis = 0))/data_new.std(axis = 0)"
   ]
  },
  {
   "cell_type": "code",
   "execution_count": 108,
   "id": "7f578bde",
   "metadata": {},
   "outputs": [
    {
     "data": {
      "text/html": [
       "<div>\n",
       "<style scoped>\n",
       "    .dataframe tbody tr th:only-of-type {\n",
       "        vertical-align: middle;\n",
       "    }\n",
       "\n",
       "    .dataframe tbody tr th {\n",
       "        vertical-align: top;\n",
       "    }\n",
       "\n",
       "    .dataframe thead th {\n",
       "        text-align: right;\n",
       "    }\n",
       "</style>\n",
       "<table border=\"1\" class=\"dataframe\">\n",
       "  <thead>\n",
       "    <tr style=\"text-align: right;\">\n",
       "      <th></th>\n",
       "      <th>Business Analyst</th>\n",
       "      <th>Data Scientist</th>\n",
       "      <th>Hardware Engineer</th>\n",
       "      <th>Human Resources</th>\n",
       "      <th>Management Consultant</th>\n",
       "      <th>Marketing</th>\n",
       "      <th>Mechanical Engineer</th>\n",
       "      <th>Product Designer</th>\n",
       "      <th>Product Manager</th>\n",
       "      <th>Recruiter</th>\n",
       "      <th>Sales</th>\n",
       "      <th>Software Engineer</th>\n",
       "      <th>Software Engineering Manager</th>\n",
       "      <th>Solution Architect</th>\n",
       "      <th>Technical Program Manager</th>\n",
       "      <th>binary_salary</th>\n",
       "      <th>totalyearlycompensation</th>\n",
       "      <th>yearsatcompany</th>\n",
       "      <th>yearsofexperience</th>\n",
       "    </tr>\n",
       "  </thead>\n",
       "  <tbody>\n",
       "    <tr>\n",
       "      <th>count</th>\n",
       "      <td>6.264200e+04</td>\n",
       "      <td>6.264200e+04</td>\n",
       "      <td>6.264200e+04</td>\n",
       "      <td>6.264200e+04</td>\n",
       "      <td>6.264200e+04</td>\n",
       "      <td>6.264200e+04</td>\n",
       "      <td>6.264200e+04</td>\n",
       "      <td>6.264200e+04</td>\n",
       "      <td>6.264200e+04</td>\n",
       "      <td>6.264200e+04</td>\n",
       "      <td>6.264200e+04</td>\n",
       "      <td>6.264200e+04</td>\n",
       "      <td>6.264200e+04</td>\n",
       "      <td>6.264200e+04</td>\n",
       "      <td>6.264200e+04</td>\n",
       "      <td>6.264200e+04</td>\n",
       "      <td>6.264200e+04</td>\n",
       "      <td>6.264200e+04</td>\n",
       "      <td>6.264200e+04</td>\n",
       "    </tr>\n",
       "    <tr>\n",
       "      <th>mean</th>\n",
       "      <td>1.979409e-14</td>\n",
       "      <td>-8.214306e-15</td>\n",
       "      <td>-4.354704e-17</td>\n",
       "      <td>-2.256991e-16</td>\n",
       "      <td>2.391540e-14</td>\n",
       "      <td>1.244246e-14</td>\n",
       "      <td>6.174861e-15</td>\n",
       "      <td>-4.071468e-15</td>\n",
       "      <td>-3.105089e-15</td>\n",
       "      <td>-1.968679e-14</td>\n",
       "      <td>-2.261255e-14</td>\n",
       "      <td>-1.873784e-14</td>\n",
       "      <td>-2.746883e-14</td>\n",
       "      <td>-2.172008e-15</td>\n",
       "      <td>2.905373e-14</td>\n",
       "      <td>-6.442991e-14</td>\n",
       "      <td>2.228067e-16</td>\n",
       "      <td>-1.896397e-15</td>\n",
       "      <td>3.606408e-16</td>\n",
       "    </tr>\n",
       "    <tr>\n",
       "      <th>std</th>\n",
       "      <td>1.000000e+00</td>\n",
       "      <td>1.000000e+00</td>\n",
       "      <td>1.000000e+00</td>\n",
       "      <td>1.000000e+00</td>\n",
       "      <td>1.000000e+00</td>\n",
       "      <td>1.000000e+00</td>\n",
       "      <td>1.000000e+00</td>\n",
       "      <td>1.000000e+00</td>\n",
       "      <td>1.000000e+00</td>\n",
       "      <td>1.000000e+00</td>\n",
       "      <td>1.000000e+00</td>\n",
       "      <td>1.000000e+00</td>\n",
       "      <td>1.000000e+00</td>\n",
       "      <td>1.000000e+00</td>\n",
       "      <td>1.000000e+00</td>\n",
       "      <td>1.000000e+00</td>\n",
       "      <td>1.000000e+00</td>\n",
       "      <td>1.000000e+00</td>\n",
       "      <td>1.000000e+00</td>\n",
       "    </tr>\n",
       "    <tr>\n",
       "      <th>min</th>\n",
       "      <td>-1.197085e-01</td>\n",
       "      <td>-2.071719e-01</td>\n",
       "      <td>-1.907825e-01</td>\n",
       "      <td>-7.645042e-02</td>\n",
       "      <td>-1.258052e-01</td>\n",
       "      <td>-1.070701e-01</td>\n",
       "      <td>-8.879061e-02</td>\n",
       "      <td>-1.574828e-01</td>\n",
       "      <td>-2.839203e-01</td>\n",
       "      <td>-8.515713e-02</td>\n",
       "      <td>-8.610297e-02</td>\n",
       "      <td>-1.387682e+00</td>\n",
       "      <td>-2.457963e-01</td>\n",
       "      <td>-1.371762e-01</td>\n",
       "      <td>-1.501417e-01</td>\n",
       "      <td>-1.502040e+00</td>\n",
       "      <td>-1.494565e+00</td>\n",
       "      <td>-8.279345e-01</td>\n",
       "      <td>-1.233505e+00</td>\n",
       "    </tr>\n",
       "    <tr>\n",
       "      <th>25%</th>\n",
       "      <td>-1.197085e-01</td>\n",
       "      <td>-2.071719e-01</td>\n",
       "      <td>-1.907825e-01</td>\n",
       "      <td>-7.645042e-02</td>\n",
       "      <td>-1.258052e-01</td>\n",
       "      <td>-1.070701e-01</td>\n",
       "      <td>-8.879061e-02</td>\n",
       "      <td>-1.574828e-01</td>\n",
       "      <td>-2.839203e-01</td>\n",
       "      <td>-8.515713e-02</td>\n",
       "      <td>-8.610297e-02</td>\n",
       "      <td>-1.387682e+00</td>\n",
       "      <td>-2.457963e-01</td>\n",
       "      <td>-1.371762e-01</td>\n",
       "      <td>-1.501417e-01</td>\n",
       "      <td>-1.502040e+00</td>\n",
       "      <td>-5.889891e-01</td>\n",
       "      <td>-8.279345e-01</td>\n",
       "      <td>-7.198399e-01</td>\n",
       "    </tr>\n",
       "    <tr>\n",
       "      <th>50%</th>\n",
       "      <td>-1.197085e-01</td>\n",
       "      <td>-2.071719e-01</td>\n",
       "      <td>-1.907825e-01</td>\n",
       "      <td>-7.645042e-02</td>\n",
       "      <td>-1.258052e-01</td>\n",
       "      <td>-1.070701e-01</td>\n",
       "      <td>-8.879061e-02</td>\n",
       "      <td>-1.574828e-01</td>\n",
       "      <td>-2.839203e-01</td>\n",
       "      <td>-8.515713e-02</td>\n",
       "      <td>-8.610297e-02</td>\n",
       "      <td>7.206146e-01</td>\n",
       "      <td>-2.457963e-01</td>\n",
       "      <td>-1.371762e-01</td>\n",
       "      <td>-1.501417e-01</td>\n",
       "      <td>6.657507e-01</td>\n",
       "      <td>-2.050250e-01</td>\n",
       "      <td>-2.151247e-01</td>\n",
       "      <td>-2.061743e-01</td>\n",
       "    </tr>\n",
       "    <tr>\n",
       "      <th>75%</th>\n",
       "      <td>-1.197085e-01</td>\n",
       "      <td>-2.071719e-01</td>\n",
       "      <td>-1.907825e-01</td>\n",
       "      <td>-7.645042e-02</td>\n",
       "      <td>-1.258052e-01</td>\n",
       "      <td>-1.070701e-01</td>\n",
       "      <td>-8.879061e-02</td>\n",
       "      <td>-1.574828e-01</td>\n",
       "      <td>-2.839203e-01</td>\n",
       "      <td>-8.515713e-02</td>\n",
       "      <td>-8.610297e-02</td>\n",
       "      <td>7.206146e-01</td>\n",
       "      <td>-2.457963e-01</td>\n",
       "      <td>-1.371762e-01</td>\n",
       "      <td>-1.501417e-01</td>\n",
       "      <td>6.657507e-01</td>\n",
       "      <td>3.455650e-01</td>\n",
       "      <td>3.976851e-01</td>\n",
       "      <td>4.787132e-01</td>\n",
       "    </tr>\n",
       "    <tr>\n",
       "      <th>max</th>\n",
       "      <td>8.353491e+00</td>\n",
       "      <td>4.826832e+00</td>\n",
       "      <td>5.241488e+00</td>\n",
       "      <td>1.308016e+01</td>\n",
       "      <td>7.948671e+00</td>\n",
       "      <td>9.339528e+00</td>\n",
       "      <td>1.126227e+01</td>\n",
       "      <td>6.349798e+00</td>\n",
       "      <td>3.522058e+00</td>\n",
       "      <td>1.174281e+01</td>\n",
       "      <td>1.161382e+01</td>\n",
       "      <td>7.206146e-01</td>\n",
       "      <td>4.068345e+00</td>\n",
       "      <td>7.289780e+00</td>\n",
       "      <td>6.660268e+00</td>\n",
       "      <td>6.657507e-01</td>\n",
       "      <td>3.451112e+01</td>\n",
       "      <td>2.031400e+01</td>\n",
       "      <td>1.058080e+01</td>\n",
       "    </tr>\n",
       "  </tbody>\n",
       "</table>\n",
       "</div>"
      ],
      "text/plain": [
       "       Business Analyst  Data Scientist  Hardware Engineer  Human Resources  \\\n",
       "count      6.264200e+04    6.264200e+04       6.264200e+04     6.264200e+04   \n",
       "mean       1.979409e-14   -8.214306e-15      -4.354704e-17    -2.256991e-16   \n",
       "std        1.000000e+00    1.000000e+00       1.000000e+00     1.000000e+00   \n",
       "min       -1.197085e-01   -2.071719e-01      -1.907825e-01    -7.645042e-02   \n",
       "25%       -1.197085e-01   -2.071719e-01      -1.907825e-01    -7.645042e-02   \n",
       "50%       -1.197085e-01   -2.071719e-01      -1.907825e-01    -7.645042e-02   \n",
       "75%       -1.197085e-01   -2.071719e-01      -1.907825e-01    -7.645042e-02   \n",
       "max        8.353491e+00    4.826832e+00       5.241488e+00     1.308016e+01   \n",
       "\n",
       "       Management Consultant     Marketing  Mechanical Engineer  \\\n",
       "count           6.264200e+04  6.264200e+04         6.264200e+04   \n",
       "mean            2.391540e-14  1.244246e-14         6.174861e-15   \n",
       "std             1.000000e+00  1.000000e+00         1.000000e+00   \n",
       "min            -1.258052e-01 -1.070701e-01        -8.879061e-02   \n",
       "25%            -1.258052e-01 -1.070701e-01        -8.879061e-02   \n",
       "50%            -1.258052e-01 -1.070701e-01        -8.879061e-02   \n",
       "75%            -1.258052e-01 -1.070701e-01        -8.879061e-02   \n",
       "max             7.948671e+00  9.339528e+00         1.126227e+01   \n",
       "\n",
       "       Product Designer  Product Manager     Recruiter         Sales  \\\n",
       "count      6.264200e+04     6.264200e+04  6.264200e+04  6.264200e+04   \n",
       "mean      -4.071468e-15    -3.105089e-15 -1.968679e-14 -2.261255e-14   \n",
       "std        1.000000e+00     1.000000e+00  1.000000e+00  1.000000e+00   \n",
       "min       -1.574828e-01    -2.839203e-01 -8.515713e-02 -8.610297e-02   \n",
       "25%       -1.574828e-01    -2.839203e-01 -8.515713e-02 -8.610297e-02   \n",
       "50%       -1.574828e-01    -2.839203e-01 -8.515713e-02 -8.610297e-02   \n",
       "75%       -1.574828e-01    -2.839203e-01 -8.515713e-02 -8.610297e-02   \n",
       "max        6.349798e+00     3.522058e+00  1.174281e+01  1.161382e+01   \n",
       "\n",
       "       Software Engineer  Software Engineering Manager  Solution Architect  \\\n",
       "count       6.264200e+04                  6.264200e+04        6.264200e+04   \n",
       "mean       -1.873784e-14                 -2.746883e-14       -2.172008e-15   \n",
       "std         1.000000e+00                  1.000000e+00        1.000000e+00   \n",
       "min        -1.387682e+00                 -2.457963e-01       -1.371762e-01   \n",
       "25%        -1.387682e+00                 -2.457963e-01       -1.371762e-01   \n",
       "50%         7.206146e-01                 -2.457963e-01       -1.371762e-01   \n",
       "75%         7.206146e-01                 -2.457963e-01       -1.371762e-01   \n",
       "max         7.206146e-01                  4.068345e+00        7.289780e+00   \n",
       "\n",
       "       Technical Program Manager  binary_salary  totalyearlycompensation  \\\n",
       "count               6.264200e+04   6.264200e+04             6.264200e+04   \n",
       "mean                2.905373e-14  -6.442991e-14             2.228067e-16   \n",
       "std                 1.000000e+00   1.000000e+00             1.000000e+00   \n",
       "min                -1.501417e-01  -1.502040e+00            -1.494565e+00   \n",
       "25%                -1.501417e-01  -1.502040e+00            -5.889891e-01   \n",
       "50%                -1.501417e-01   6.657507e-01            -2.050250e-01   \n",
       "75%                -1.501417e-01   6.657507e-01             3.455650e-01   \n",
       "max                 6.660268e+00   6.657507e-01             3.451112e+01   \n",
       "\n",
       "       yearsatcompany  yearsofexperience  \n",
       "count    6.264200e+04       6.264200e+04  \n",
       "mean    -1.896397e-15       3.606408e-16  \n",
       "std      1.000000e+00       1.000000e+00  \n",
       "min     -8.279345e-01      -1.233505e+00  \n",
       "25%     -8.279345e-01      -7.198399e-01  \n",
       "50%     -2.151247e-01      -2.061743e-01  \n",
       "75%      3.976851e-01       4.787132e-01  \n",
       "max      2.031400e+01       1.058080e+01  "
      ]
     },
     "execution_count": 108,
     "metadata": {},
     "output_type": "execute_result"
    }
   ],
   "source": [
    "data_stand.describe()"
   ]
  },
  {
   "cell_type": "markdown",
   "id": "ebde8e33",
   "metadata": {},
   "source": [
    "## 6) Разбиваем данные на обучающую и тестовую выборки"
   ]
  },
  {
   "cell_type": "code",
   "execution_count": 109,
   "id": "7ea733b7",
   "metadata": {},
   "outputs": [
    {
     "data": {
      "text/plain": [
       "Index(['Business Analyst', 'Data Scientist', 'Education', 'Hardware Engineer',\n",
       "       'Human Resources', 'Management Consultant', 'Marketing',\n",
       "       'Mechanical Engineer', 'Product Designer', 'Product Manager',\n",
       "       'Recruiter', 'Sales', 'Software Engineer',\n",
       "       'Software Engineering Manager', 'Solution Architect',\n",
       "       'Technical Program Manager', 'binary_salary', 'company', 'location',\n",
       "       'tag', 'totalyearlycompensation', 'yearsatcompany',\n",
       "       'yearsofexperience'],\n",
       "      dtype='object')"
      ]
     },
     "execution_count": 109,
     "metadata": {},
     "output_type": "execute_result"
    }
   ],
   "source": [
    "# Для предсказания Самых больших ЗП (binary_salary) будем использовать все входные признаки кроме\n",
    "# location, company, yearsatcompany, tag, totalyearlycompensation и самого binary_salary\n",
    "data_stand.columns"
   ]
  },
  {
   "cell_type": "code",
   "execution_count": 110,
   "id": "77891e2a",
   "metadata": {},
   "outputs": [],
   "source": [
    "X = data_stand.drop(['Education' ,'location', 'tag', 'company', 'yearsatcompany', 'yearsofexperience', 'totalyearlycompensation', 'binary_salary'], axis=1)\n",
    "y = data_new['binary_salary']"
   ]
  },
  {
   "cell_type": "code",
   "execution_count": 111,
   "id": "bcb08e52",
   "metadata": {},
   "outputs": [
    {
     "data": {
      "text/html": [
       "<div>\n",
       "<style scoped>\n",
       "    .dataframe tbody tr th:only-of-type {\n",
       "        vertical-align: middle;\n",
       "    }\n",
       "\n",
       "    .dataframe tbody tr th {\n",
       "        vertical-align: top;\n",
       "    }\n",
       "\n",
       "    .dataframe thead th {\n",
       "        text-align: right;\n",
       "    }\n",
       "</style>\n",
       "<table border=\"1\" class=\"dataframe\">\n",
       "  <thead>\n",
       "    <tr style=\"text-align: right;\">\n",
       "      <th></th>\n",
       "      <th>Business Analyst</th>\n",
       "      <th>Data Scientist</th>\n",
       "      <th>Hardware Engineer</th>\n",
       "      <th>Human Resources</th>\n",
       "      <th>Management Consultant</th>\n",
       "      <th>Marketing</th>\n",
       "      <th>Mechanical Engineer</th>\n",
       "      <th>Product Designer</th>\n",
       "      <th>Product Manager</th>\n",
       "      <th>Recruiter</th>\n",
       "      <th>Sales</th>\n",
       "      <th>Software Engineer</th>\n",
       "      <th>Software Engineering Manager</th>\n",
       "      <th>Solution Architect</th>\n",
       "      <th>Technical Program Manager</th>\n",
       "    </tr>\n",
       "  </thead>\n",
       "  <tbody>\n",
       "    <tr>\n",
       "      <th>0</th>\n",
       "      <td>-0.119709</td>\n",
       "      <td>-0.207172</td>\n",
       "      <td>-0.190782</td>\n",
       "      <td>-0.07645</td>\n",
       "      <td>-0.125805</td>\n",
       "      <td>-0.10707</td>\n",
       "      <td>-0.088791</td>\n",
       "      <td>-0.157483</td>\n",
       "      <td>3.522058</td>\n",
       "      <td>-0.085157</td>\n",
       "      <td>-0.086103</td>\n",
       "      <td>-1.387682</td>\n",
       "      <td>-0.245796</td>\n",
       "      <td>-0.137176</td>\n",
       "      <td>-0.150142</td>\n",
       "    </tr>\n",
       "    <tr>\n",
       "      <th>1</th>\n",
       "      <td>-0.119709</td>\n",
       "      <td>-0.207172</td>\n",
       "      <td>-0.190782</td>\n",
       "      <td>-0.07645</td>\n",
       "      <td>-0.125805</td>\n",
       "      <td>-0.10707</td>\n",
       "      <td>-0.088791</td>\n",
       "      <td>-0.157483</td>\n",
       "      <td>-0.283920</td>\n",
       "      <td>-0.085157</td>\n",
       "      <td>-0.086103</td>\n",
       "      <td>0.720615</td>\n",
       "      <td>-0.245796</td>\n",
       "      <td>-0.137176</td>\n",
       "      <td>-0.150142</td>\n",
       "    </tr>\n",
       "    <tr>\n",
       "      <th>2</th>\n",
       "      <td>-0.119709</td>\n",
       "      <td>-0.207172</td>\n",
       "      <td>-0.190782</td>\n",
       "      <td>-0.07645</td>\n",
       "      <td>-0.125805</td>\n",
       "      <td>-0.10707</td>\n",
       "      <td>-0.088791</td>\n",
       "      <td>-0.157483</td>\n",
       "      <td>3.522058</td>\n",
       "      <td>-0.085157</td>\n",
       "      <td>-0.086103</td>\n",
       "      <td>-1.387682</td>\n",
       "      <td>-0.245796</td>\n",
       "      <td>-0.137176</td>\n",
       "      <td>-0.150142</td>\n",
       "    </tr>\n",
       "    <tr>\n",
       "      <th>3</th>\n",
       "      <td>-0.119709</td>\n",
       "      <td>-0.207172</td>\n",
       "      <td>-0.190782</td>\n",
       "      <td>-0.07645</td>\n",
       "      <td>-0.125805</td>\n",
       "      <td>-0.10707</td>\n",
       "      <td>-0.088791</td>\n",
       "      <td>-0.157483</td>\n",
       "      <td>-0.283920</td>\n",
       "      <td>-0.085157</td>\n",
       "      <td>-0.086103</td>\n",
       "      <td>-1.387682</td>\n",
       "      <td>4.068345</td>\n",
       "      <td>-0.137176</td>\n",
       "      <td>-0.150142</td>\n",
       "    </tr>\n",
       "    <tr>\n",
       "      <th>4</th>\n",
       "      <td>-0.119709</td>\n",
       "      <td>-0.207172</td>\n",
       "      <td>-0.190782</td>\n",
       "      <td>-0.07645</td>\n",
       "      <td>-0.125805</td>\n",
       "      <td>-0.10707</td>\n",
       "      <td>-0.088791</td>\n",
       "      <td>-0.157483</td>\n",
       "      <td>-0.283920</td>\n",
       "      <td>-0.085157</td>\n",
       "      <td>-0.086103</td>\n",
       "      <td>0.720615</td>\n",
       "      <td>-0.245796</td>\n",
       "      <td>-0.137176</td>\n",
       "      <td>-0.150142</td>\n",
       "    </tr>\n",
       "  </tbody>\n",
       "</table>\n",
       "</div>"
      ],
      "text/plain": [
       "   Business Analyst  Data Scientist  Hardware Engineer  Human Resources  \\\n",
       "0         -0.119709       -0.207172          -0.190782         -0.07645   \n",
       "1         -0.119709       -0.207172          -0.190782         -0.07645   \n",
       "2         -0.119709       -0.207172          -0.190782         -0.07645   \n",
       "3         -0.119709       -0.207172          -0.190782         -0.07645   \n",
       "4         -0.119709       -0.207172          -0.190782         -0.07645   \n",
       "\n",
       "   Management Consultant  Marketing  Mechanical Engineer  Product Designer  \\\n",
       "0              -0.125805   -0.10707            -0.088791         -0.157483   \n",
       "1              -0.125805   -0.10707            -0.088791         -0.157483   \n",
       "2              -0.125805   -0.10707            -0.088791         -0.157483   \n",
       "3              -0.125805   -0.10707            -0.088791         -0.157483   \n",
       "4              -0.125805   -0.10707            -0.088791         -0.157483   \n",
       "\n",
       "   Product Manager  Recruiter     Sales  Software Engineer  \\\n",
       "0         3.522058  -0.085157 -0.086103          -1.387682   \n",
       "1        -0.283920  -0.085157 -0.086103           0.720615   \n",
       "2         3.522058  -0.085157 -0.086103          -1.387682   \n",
       "3        -0.283920  -0.085157 -0.086103          -1.387682   \n",
       "4        -0.283920  -0.085157 -0.086103           0.720615   \n",
       "\n",
       "   Software Engineering Manager  Solution Architect  Technical Program Manager  \n",
       "0                     -0.245796           -0.137176                  -0.150142  \n",
       "1                     -0.245796           -0.137176                  -0.150142  \n",
       "2                     -0.245796           -0.137176                  -0.150142  \n",
       "3                      4.068345           -0.137176                  -0.150142  \n",
       "4                     -0.245796           -0.137176                  -0.150142  "
      ]
     },
     "execution_count": 111,
     "metadata": {},
     "output_type": "execute_result"
    }
   ],
   "source": [
    "X.head()"
   ]
  },
  {
   "cell_type": "code",
   "execution_count": 112,
   "id": "8bbec5c8",
   "metadata": {},
   "outputs": [],
   "source": [
    "# Разобьем данные на обучающую и тестовую выборки в пропорции 3:1 (75% - обучающая выборка, 25% - тестовая):\n",
    "from sklearn.model_selection import train_test_split\n",
    "X_train, X_test, y_train, y_test = train_test_split(X, y, test_size = 0.25, random_state = 42)"
   ]
  },
  {
   "cell_type": "code",
   "execution_count": 113,
   "id": "83bd035c",
   "metadata": {},
   "outputs": [],
   "source": [
    "N_train, _ = X_train.shape \n",
    "N_test,  _ = X_test.shape"
   ]
  },
  {
   "cell_type": "code",
   "execution_count": 114,
   "id": "caa2a882",
   "metadata": {},
   "outputs": [
    {
     "data": {
      "text/plain": [
       "(46981, 15661)"
      ]
     },
     "execution_count": 114,
     "metadata": {},
     "output_type": "execute_result"
    }
   ],
   "source": [
    "N_train, N_test"
   ]
  },
  {
   "cell_type": "markdown",
   "id": "791e31e5",
   "metadata": {},
   "source": [
    "## 7-8) Запускаем классификатор ближайших соседей и вычисляем ошибки на обучающей и тестовой выборках"
   ]
  },
  {
   "cell_type": "code",
   "execution_count": 115,
   "id": "578dfa07",
   "metadata": {},
   "outputs": [],
   "source": [
    "from sklearn.neighbors import KNeighborsClassifier"
   ]
  },
  {
   "cell_type": "code",
   "execution_count": 41,
   "id": "dae67644",
   "metadata": {},
   "outputs": [
    {
     "name": "stdout",
     "output_type": "stream",
     "text": [
      "Accuracy. Train : 47.02%, Test: 46.25%. \n"
     ]
    }
   ],
   "source": [
    "knn_default = KNeighborsClassifier()\n",
    "knn_default.fit(X_train, y_train)\n",
    "knn_training_predict = 100 * knn_default.score(X_train, y_train)\n",
    "knn_test_predict = 100 * knn_default.score(X_test, y_test)\n",
    "print(\"Accuracy. Train : {:.2f}%, Test: {:.2f}%. \".format(knn_training_predict, knn_test_predict))"
   ]
  },
  {
   "cell_type": "code",
   "execution_count": 42,
   "id": "4cbdd525",
   "metadata": {},
   "outputs": [
    {
     "name": "stdout",
     "output_type": "stream",
     "text": [
      "Accuracy. Train : 40.88%, Test: 40.22%. \n"
     ]
    }
   ],
   "source": [
    "knn_2 = KNeighborsClassifier(n_neighbors = 2)\n",
    "knn_2.fit(X_train, y_train)\n",
    "knn_training_predict = 100 * knn_2.score(X_train, y_train)\n",
    "knn_test_predict = 100 * knn_2.score(X_test, y_test)\n",
    "print(\"Accuracy. Train : {:.2f}%, Test: {:.2f}%. \".format(knn_training_predict, knn_test_predict))"
   ]
  },
  {
   "cell_type": "code",
   "execution_count": 43,
   "id": "3331ef4f",
   "metadata": {},
   "outputs": [
    {
     "name": "stdout",
     "output_type": "stream",
     "text": [
      "Accuracy. Train : 69.60%, Test: 70.00%. \n"
     ]
    }
   ],
   "source": [
    "knn_8 = KNeighborsClassifier(n_neighbors = 8)\n",
    "knn_8.fit(X_train, y_train)\n",
    "knn_training_predict = 100 * knn_8.score(X_train, y_train)\n",
    "knn_test_predict = 100 * knn_8.score(X_test, y_test)\n",
    "print(\"Accuracy. Train : {:.2f}%, Test: {:.2f}%. \".format(knn_training_predict, knn_test_predict))"
   ]
  },
  {
   "cell_type": "code",
   "execution_count": 44,
   "id": "6e8d3735",
   "metadata": {},
   "outputs": [
    {
     "name": "stdout",
     "output_type": "stream",
     "text": [
      "Accuracy. Train : 69.89%, Test: 70.46%. \n"
     ]
    }
   ],
   "source": [
    "knn_12 = KNeighborsClassifier(n_neighbors = 12)\n",
    "knn_12.fit(X_train, y_train)\n",
    "knn_training_predict = 100 * knn_12.score(X_train, y_train)\n",
    "knn_test_predict = 100 * knn_12.score(X_test, y_test)\n",
    "print(\"Accuracy. Train : {:.2f}%, Test: {:.2f}%. \".format(knn_training_predict, knn_test_predict))"
   ]
  },
  {
   "cell_type": "code",
   "execution_count": 45,
   "id": "1913431c",
   "metadata": {},
   "outputs": [
    {
     "name": "stdout",
     "output_type": "stream",
     "text": [
      "Accuracy. Train : 69.89%, Test: 70.46%. \n"
     ]
    }
   ],
   "source": [
    "knn_15 = KNeighborsClassifier(n_neighbors = 15)\n",
    "knn_15.fit(X_train, y_train)\n",
    "knn_training_predict = 100 * knn_15.score(X_train, y_train)\n",
    "knn_test_predict = 100 * knn_15.score(X_test, y_test)\n",
    "print(\"Accuracy. Train : {:.2f}%, Test: {:.2f}%. \".format(knn_training_predict, knn_test_predict))"
   ]
  },
  {
   "cell_type": "markdown",
   "id": "bdde79f1",
   "metadata": {},
   "source": [
    "# Вывод"
   ]
  },
  {
   "cell_type": "markdown",
   "id": "eca23789",
   "metadata": {},
   "source": [
    "Можно сделать вывод, что при малом колличестве соседей, точность на выборках крайне мала. Однако при большом колличестве соседей точность значительноувеличивается."
   ]
  },
  {
   "cell_type": "markdown",
   "id": "3bda7696",
   "metadata": {},
   "source": [
    "# ДЗ №2"
   ]
  },
  {
   "cell_type": "code",
   "execution_count": 128,
   "id": "73e85e78",
   "metadata": {},
   "outputs": [
    {
     "data": {
      "text/plain": [
       "Index(['totalyearlycompensation', 'yearsofexperience', 'yearsatcompany',\n",
       "       'Business Analyst', 'Data Scientist', 'Hardware Engineer',\n",
       "       'Human Resources', 'Management Consultant', 'Marketing',\n",
       "       'Mechanical Engineer', 'Product Designer', 'Product Manager',\n",
       "       'Recruiter', 'Sales', 'Software Engineer',\n",
       "       'Software Engineering Manager', 'Solution Architect',\n",
       "       'Technical Program Manager'],\n",
       "      dtype='object')"
      ]
     },
     "execution_count": 128,
     "metadata": {},
     "output_type": "execute_result"
    }
   ],
   "source": [
    "new_data = data_new.copy()\n",
    "new_data.drop(['company', 'location', 'tag', 'Education'], axis=1, inplace = True)\n",
    "\n",
    "X = new_data.drop('binary_salary', axis = 1) # выбрасываем столбец 'binary_salary'\n",
    "y = new_data['binary_salary']\n",
    "feature_names = X.columns\n",
    "feature_names"
   ]
  },
  {
   "cell_type": "code",
   "execution_count": 129,
   "id": "77d2313d",
   "metadata": {},
   "outputs": [
    {
     "name": "stdout",
     "output_type": "stream",
     "text": [
      "(62642, 18)\n",
      "(62642,)\n"
     ]
    }
   ],
   "source": [
    "print(X.shape)\n",
    "print(y.shape)\n",
    "N, d = X.shape"
   ]
  },
  {
   "cell_type": "code",
   "execution_count": 130,
   "id": "ba9f3113",
   "metadata": {},
   "outputs": [
    {
     "name": "stdout",
     "output_type": "stream",
     "text": [
      "46981 15661\n"
     ]
    }
   ],
   "source": [
    "from sklearn.model_selection import train_test_split\n",
    "\n",
    "X_train, X_test, y_train, y_test = train_test_split(X, y, test_size = 0.25, random_state = 42)\n",
    "N_train, _ = X_train.shape \n",
    "N_test,  _ = X_test.shape \n",
    "\n",
    "print(N_train, N_test)"
   ]
  },
  {
   "cell_type": "markdown",
   "id": "0d61af4a",
   "metadata": {},
   "source": [
    "### Обучение классификатора"
   ]
  },
  {
   "cell_type": "code",
   "execution_count": 131,
   "id": "1ce14f30",
   "metadata": {},
   "outputs": [],
   "source": [
    "from sklearn.neural_network import MLPClassifier\n",
    "from sklearn.metrics import accuracy_score\n",
    "from tqdm import tqdm"
   ]
  },
  {
   "cell_type": "markdown",
   "id": "68a0d883",
   "metadata": {},
   "source": [
    "##### Подбор количества нейронов в однослойной сети"
   ]
  },
  {
   "cell_type": "code",
   "execution_count": 132,
   "id": "11a0aabd",
   "metadata": {},
   "outputs": [
    {
     "name": "stderr",
     "output_type": "stream",
     "text": [
      "100%|██████████| 50/50 [03:35<00:00,  4.32s/it]\n"
     ]
    }
   ],
   "source": [
    "hidden_layer_size = np.linspace(1, 50, 50)\n",
    "hidden_layer_size = hidden_layer_size.astype(int)\n",
    "test_err, train_err = [], []\n",
    "train_acc, test_acc = [], []\n",
    "\n",
    "for size in tqdm(hidden_layer_size):\n",
    "    model = MLPClassifier(hidden_layer_sizes=(size,), \n",
    "                          solver='adam', activation='relu', max_iter=1000, random_state=42)\n",
    "    model.fit(X_train, y_train)\n",
    "\n",
    "    y_train_pred = model.predict(X_train)\n",
    "    y_test_pred = model.predict(X_test)\n",
    "    \n",
    "    train_err.append(np.mean(y_train != y_train_pred))\n",
    "    test_err.append(np.mean(y_test != y_test_pred))\n",
    "    \n",
    "    train_acc.append(accuracy_score(y_train, y_train_pred))\n",
    "    test_acc.append(accuracy_score(y_test, y_test_pred))"
   ]
  },
  {
   "cell_type": "code",
   "execution_count": 133,
   "id": "cdb02458",
   "metadata": {},
   "outputs": [
    {
     "data": {
      "text/plain": [
       "<matplotlib.legend.Legend at 0x218108d78e0>"
      ]
     },
     "execution_count": 133,
     "metadata": {},
     "output_type": "execute_result"
    },
    {
     "data": {
      "image/png": "[encoded data removed]",
      "text/plain": [
       "<Figure size 432x288 with 1 Axes>"
      ]
     },
     "metadata": {
      "needs_background": "light"
     },
     "output_type": "display_data"
    }
   ],
   "source": [
    "plt.plot(hidden_layer_size, train_err, 'b-o', label = 'train')\n",
    "plt.plot(hidden_layer_size, test_err, 'r-o', label = 'test')\n",
    "plt.xlim([np.min(hidden_layer_size), np.max(hidden_layer_size)])\n",
    "plt.title('Error is as a function of hidden_layer_size')\n",
    "plt.xlabel('hidden_layer_size')\n",
    "plt.ylabel('error')\n",
    "plt.legend()"
   ]
  },
  {
   "cell_type": "code",
   "execution_count": 134,
   "id": "592994d8",
   "metadata": {},
   "outputs": [
    {
     "name": "stdout",
     "output_type": "stream",
     "text": [
      "Train: Min error=0.12845618441497628, number of neurons=17\n",
      "Test: Min error=0.12700338420279675, number of neurons=17\n"
     ]
    }
   ],
   "source": [
    "print(\"Train: Min error={0}, number of neurons={1}\".format(np.min(train_err), hidden_layer_size[np.argmin(train_err)]))\n",
    "print(\"Test: Min error={0}, number of neurons={1}\".format(np.min(test_err), hidden_layer_size[np.argmin(test_err)]))"
   ]
  },
  {
   "cell_type": "code",
   "execution_count": 135,
   "id": "10eabef7",
   "metadata": {},
   "outputs": [
    {
     "data": {
      "text/plain": [
       "<matplotlib.legend.Legend at 0x2180fc8a340>"
      ]
     },
     "execution_count": 135,
     "metadata": {},
     "output_type": "execute_result"
    },
    {
     "data": {
      "image/png": "[encoded data removed]",
      "text/plain": [
       "<Figure size 432x288 with 1 Axes>"
      ]
     },
     "metadata": {
      "needs_background": "light"
     },
     "output_type": "display_data"
    }
   ],
   "source": [
    "plt.plot(hidden_layer_size, train_acc, 'r-o', label = 'train')\n",
    "plt.plot(hidden_layer_size, test_acc, 'b-o', label = 'test')\n",
    "plt.xlim([np.min(hidden_layer_size), np.max(hidden_layer_size)])\n",
    "plt.title('Accuracy is a function of hidden_layer_size')\n",
    "plt.xlabel('hidden_layer_size')\n",
    "plt.ylabel('Accuracy')\n",
    "plt.legend()"
   ]
  },
  {
   "cell_type": "code",
   "execution_count": 136,
   "id": "f620ed3a",
   "metadata": {},
   "outputs": [
    {
     "name": "stdout",
     "output_type": "stream",
     "text": [
      "Train: max accuracy=0.8715438155850237, number of neurons=17\n",
      "Test: max accuracy=0.8729966157972032, number of neurons=17\n"
     ]
    }
   ],
   "source": [
    "print(\"Train: max accuracy={0}, number of neurons={1}\".format(np.max(train_acc), hidden_layer_size[np.argmax(train_acc)]))\n",
    "print(\"Test: max accuracy={0}, number of neurons={1}\".format(np.max(test_acc), hidden_layer_size[np.argmax(test_acc)]))"
   ]
  },
  {
   "cell_type": "markdown",
   "id": "f45e2db9",
   "metadata": {},
   "source": [
    "#### Подбор количества нейронов в двуслойной сети"
   ]
  },
  {
   "cell_type": "code",
   "execution_count": 137,
   "id": "ee6d7f9e",
   "metadata": {},
   "outputs": [
    {
     "name": "stderr",
     "output_type": "stream",
     "text": [
      "10it [14:42, 88.20s/it] \n"
     ]
    }
   ],
   "source": [
    "n = 10\n",
    "sizes = np.linspace(1, 50, n).astype(int)\n",
    "test_err = np.zeros((n, n))\n",
    "train_err = np.zeros((n, n))\n",
    "train_acc = np.zeros((n, n))\n",
    "test_acc = np.zeros((n, n))\n",
    "\n",
    "for i, size_1 in tqdm(enumerate(sizes)):\n",
    "    for j, size_2 in enumerate(sizes):\n",
    "        model = MLPClassifier(hidden_layer_sizes=(size_1, size_2, ), \n",
    "                              solver='adam', activation='relu', max_iter=1000, random_state=42)\n",
    "        model.fit(X_train, y_train)\n",
    "\n",
    "        y_train_pred = model.predict(X_train)\n",
    "        y_test_pred = model.predict(X_test)\n",
    "\n",
    "        train_err[i][j] = np.mean(y_train != y_train_pred)\n",
    "        test_err[i][j] = np.mean(y_test != y_test_pred)\n",
    "\n",
    "        train_acc[i][j] = accuracy_score(y_train, y_train_pred)\n",
    "        test_acc[i][j] = accuracy_score(y_test, y_test_pred)"
   ]
  },
  {
   "cell_type": "code",
   "execution_count": 138,
   "id": "5ff22a02",
   "metadata": {},
   "outputs": [
    {
     "data": {
      "image/png": "[encoded data removed]",
      "text/plain": [
       "<Figure size 432x288 with 3 Axes>"
      ]
     },
     "metadata": {
      "needs_background": "light"
     },
     "output_type": "display_data"
    }
   ],
   "source": [
    "plt.subplot(121)\n",
    "plt.title(\"Train error\")\n",
    "plt.imshow(train_err)\n",
    "plt.xticks(np.arange(n), np.arange(1, 50, 50 / n))\n",
    "plt.yticks(np.arange(n), np.arange(1, 50, 50 / n))\n",
    "\n",
    "plt.subplot(122)\n",
    "plt.title(\"Test error\")\n",
    "plt.imshow(test_err)\n",
    "plt.xticks(np.arange(n), np.arange(1, 50, 50 / n))\n",
    "plt.yticks(np.arange(n), np.arange(1, 50, 50 / n))\n",
    "\n",
    "cax = plt.axes([0.96, 0.15, 0.02, 0.7])\n",
    "plt.colorbar(cax=cax)\n",
    "\n",
    "train_min_loss = np.where(train_err == np.min(train_err))\n",
    "test_min_loss = np.where(test_err == np.min(test_err))\n",
    "\n",
    "train_min_loss_sizes = [train_min_loss[0][0] * 5, train_min_loss[1][0] * 5]\n",
    "test_min_loss_sizes = [test_min_loss[0][0] * 5, test_min_loss[1][0] * 5]"
   ]
  },
  {
   "cell_type": "code",
   "execution_count": 139,
   "id": "9dd81a09",
   "metadata": {},
   "outputs": [
    {
     "name": "stdout",
     "output_type": "stream",
     "text": [
      "Train: Min error=0.01902896915774462, number of neurons=5,25\n",
      "Test: error=0.022093097503352276, number of neurons=5,25\n",
      "\n",
      "Test: Min error=0.022093097503352276, number of neurons=5,25\n",
      "Train: error=0.01902896915774462, number of neurons=5,25\n",
      "\n"
     ]
    }
   ],
   "source": [
    "print(\"Train: Min error={0}, number of neurons={1},{2}\".format(np.min(train_err), train_min_loss_sizes[0], train_min_loss_sizes[1]))\n",
    "print(\"Test: error={0}, number of neurons={1},{2}\\n\".format(test_err[train_min_loss][0], train_min_loss_sizes[0], train_min_loss_sizes[1]))\n",
    "print(\"Test: Min error={0}, number of neurons={1},{2}\".format(np.min(test_err), test_min_loss_sizes[0], test_min_loss_sizes[1]))\n",
    "print(\"Train: error={0}, number of neurons={1},{2}\\n\".format(train_err[test_min_loss][0], test_min_loss_sizes[0], test_min_loss_sizes[1]))"
   ]
  },
  {
   "cell_type": "code",
   "execution_count": 140,
   "id": "489f4729",
   "metadata": {},
   "outputs": [
    {
     "data": {
      "image/png": "[encoded data removed]",
      "text/plain": [
       "<Figure size 432x288 with 3 Axes>"
      ]
     },
     "metadata": {
      "needs_background": "light"
     },
     "output_type": "display_data"
    }
   ],
   "source": [
    "plt.subplot(121)\n",
    "plt.title(\"Train accuracy\")\n",
    "plt.imshow(train_acc)\n",
    "plt.xticks(np.arange(n), np.arange(1, 50, 50 / n))\n",
    "plt.yticks(np.arange(n), np.arange(1, 50, 50 / n))\n",
    "\n",
    "plt.subplot(122)\n",
    "plt.title(\"Test accuracy\")\n",
    "plt.imshow(test_acc)\n",
    "plt.xticks(np.arange(n), np.arange(1, 50, 50 / n))\n",
    "plt.yticks(np.arange(n), np.arange(1, 50, 50 / n))\n",
    "\n",
    "cax = plt.axes([0.95, 0.15, 0.02, 0.7])\n",
    "plt.colorbar(cax=cax)\n",
    "\n",
    "train_max_acc = np.where(train_acc == np.max(train_acc))\n",
    "test_max_acc = np.where(test_acc == np.max(test_acc))\n",
    "\n",
    "train_max_acc_sizes = [train_max_acc[0][0] * 5, train_max_acc[1][0] * 5]\n",
    "test_max_acc_sizes = [test_max_acc[0][0] * 5, test_max_acc[1][0] * 5]"
   ]
  },
  {
   "cell_type": "code",
   "execution_count": 141,
   "id": "0c9c7d4c",
   "metadata": {},
   "outputs": [
    {
     "name": "stdout",
     "output_type": "stream",
     "text": [
      "Train: Max accuracy=0.9809710308422553, number of neurons=5,25\n",
      "Test: accuracy=0.9779069024966477, number of neurons=5,25\n",
      "\n",
      "Test: Max accuracy=0.9779069024966477, number of neurons=5,25\n",
      "Train: accuracy=0.9809710308422553, number of neurons=5,25\n",
      "\n"
     ]
    }
   ],
   "source": [
    "print(\"Train: Max accuracy={0}, number of neurons={1},{2}\".format(np.max(train_acc), train_max_acc_sizes[0], train_max_acc_sizes[1]))\n",
    "print(\"Test: accuracy={0}, number of neurons={1},{2}\\n\".format(test_acc[train_max_acc][0], train_max_acc_sizes[0], train_max_acc_sizes[1]))\n",
    "print(\"Test: Max accuracy={0}, number of neurons={1},{2}\".format(np.max(test_acc), test_max_acc_sizes[0], test_max_acc_sizes[1]))\n",
    "print(\"Train: accuracy={0}, number of neurons={1},{2}\\n\".format(train_acc[test_max_acc][0], test_max_acc_sizes[0], test_max_acc_sizes[1]))"
   ]
  },
  {
   "cell_type": "markdown",
   "id": "b57fd888",
   "metadata": {},
   "source": [
    "#### Подбор параметра регуляризации"
   ]
  },
  {
   "cell_type": "code",
   "execution_count": 142,
   "id": "ece2b122",
   "metadata": {},
   "outputs": [
    {
     "name": "stderr",
     "output_type": "stream",
     "text": [
      "100%|██████████| 50/50 [11:00<00:00, 13.20s/it]\n"
     ]
    }
   ],
   "source": [
    "alpha_arr = np.logspace(-3, 2, 50)\n",
    "test_err = []\n",
    "train_err = []\n",
    "train_acc = []\n",
    "test_acc = []\n",
    "\n",
    "for alpha in tqdm(alpha_arr):\n",
    "    mlp_model = MLPClassifier(alpha=alpha, hidden_layer_sizes=(30,40),\n",
    "                              solver='adam', activation='relu', max_iter=1000, random_state=42)\n",
    "    mlp_model.fit(X_train, y_train)\n",
    "\n",
    "    y_train_pred = mlp_model.predict(X_train)\n",
    "    y_test_pred = mlp_model.predict(X_test)\n",
    "\n",
    "    train_err.append(np.mean(y_train != y_train_pred))\n",
    "    test_err.append(np.mean(y_test != y_test_pred))\n",
    "    train_acc.append(accuracy_score(y_train, y_train_pred))\n",
    "    test_acc.append(accuracy_score(y_test, y_test_pred))"
   ]
  },
  {
   "cell_type": "code",
   "execution_count": 143,
   "id": "1f16c064",
   "metadata": {},
   "outputs": [
    {
     "data": {
      "text/plain": [
       "<matplotlib.legend.Legend at 0x2180f4e45b0>"
      ]
     },
     "execution_count": 143,
     "metadata": {},
     "output_type": "execute_result"
    },
    {
     "data": {
      "image/png": "[encoded data removed]",
      "text/plain": [
       "<Figure size 432x288 with 1 Axes>"
      ]
     },
     "metadata": {
      "needs_background": "light"
     },
     "output_type": "display_data"
    }
   ],
   "source": [
    "plt.semilogx(alpha_arr, train_err, 'b-o', label = 'train')\n",
    "plt.semilogx(alpha_arr, test_err, 'r-o', label = 'test')\n",
    "plt.xlim([np.min(alpha_arr), np.max(alpha_arr)])\n",
    "plt.title('Error vs. alpha')\n",
    "plt.xlabel('alpha')\n",
    "plt.ylabel('error')\n",
    "plt.legend()"
   ]
  },
  {
   "cell_type": "code",
   "execution_count": 144,
   "id": "1a6348c6",
   "metadata": {},
   "outputs": [
    {
     "data": {
      "text/plain": [
       "<matplotlib.legend.Legend at 0x2180fc2d880>"
      ]
     },
     "execution_count": 144,
     "metadata": {},
     "output_type": "execute_result"
    },
    {
     "data": {
      "image/png": "[encoded data removed]",
      "text/plain": [
       "<Figure size 432x288 with 1 Axes>"
      ]
     },
     "metadata": {
      "needs_background": "light"
     },
     "output_type": "display_data"
    }
   ],
   "source": [
    "plt.semilogx(alpha_arr, train_acc, 'b-o', label = 'train')\n",
    "plt.semilogx(alpha_arr, test_acc, 'r-o', label = 'test')\n",
    "plt.xlim([np.min(alpha_arr), np.max(alpha_arr)])\n",
    "plt.title('Accuracy vs. alpha')\n",
    "plt.xlabel('alpha')\n",
    "plt.ylabel('Accuracy')\n",
    "plt.legend()"
   ]
  },
  {
   "cell_type": "markdown",
   "id": "6e86d3d8",
   "metadata": {},
   "source": [
    "##### Проделаем тоже самое для 10 нейронов"
   ]
  },
  {
   "cell_type": "code",
   "execution_count": 145,
   "id": "2b9d2890",
   "metadata": {},
   "outputs": [
    {
     "name": "stderr",
     "output_type": "stream",
     "text": [
      "100%|██████████| 50/50 [02:06<00:00,  2.52s/it]\n"
     ]
    }
   ],
   "source": [
    "alpha_arr2 = np.logspace(-3, 2, 50)\n",
    "test_err2 = []\n",
    "train_err2 = []\n",
    "train_acc2 = []\n",
    "test_acc2 = []\n",
    "\n",
    "for alpha in tqdm(alpha_arr2):\n",
    "    mlp_model = MLPClassifier(alpha=alpha, hidden_layer_sizes=(10,),\n",
    "                              solver='adam', activation='relu', max_iter=1000, random_state=42)\n",
    "    mlp_model.fit(X_train, y_train)\n",
    "\n",
    "    y_train_pred = mlp_model.predict(X_train)\n",
    "    y_test_pred = mlp_model.predict(X_test)\n",
    "\n",
    "    train_err2.append(np.mean(y_train != y_train_pred))\n",
    "    test_err2.append(np.mean(y_test != y_test_pred))\n",
    "    train_acc2.append(accuracy_score(y_train, y_train_pred))\n",
    "    test_acc2.append(accuracy_score(y_test, y_test_pred))"
   ]
  },
  {
   "cell_type": "code",
   "execution_count": 148,
   "id": "b7ad6d73",
   "metadata": {},
   "outputs": [
    {
     "data": {
      "text/plain": [
       "<matplotlib.legend.Legend at 0x2181020ffd0>"
      ]
     },
     "execution_count": 148,
     "metadata": {},
     "output_type": "execute_result"
    },
    {
     "data": {
      "image/png": "[encoded data removed]",
      "text/plain": [
       "<Figure size 432x288 with 1 Axes>"
      ]
     },
     "metadata": {
      "needs_background": "light"
     },
     "output_type": "display_data"
    }
   ],
   "source": [
    "plt.semilogx(alpha_arr2, train_err2, 'b-o', label = 'train')\n",
    "plt.semilogx(alpha_arr2, test_err2, 'r-o', label = 'test')\n",
    "plt.xlim([np.min(alpha_arr2), np.max(alpha_arr2)])\n",
    "plt.title('Error vs. alpha')\n",
    "plt.xlabel('alpha')\n",
    "plt.ylabel('error')\n",
    "plt.legend()"
   ]
  },
  {
   "cell_type": "code",
   "execution_count": 147,
   "id": "3b2d1b49",
   "metadata": {},
   "outputs": [
    {
     "data": {
      "text/plain": [
       "<matplotlib.legend.Legend at 0x2180fcb7e50>"
      ]
     },
     "execution_count": 147,
     "metadata": {},
     "output_type": "execute_result"
    },
    {
     "data": {
      "image/png": "[encoded data removed]",
      "text/plain": [
       "<Figure size 432x288 with 1 Axes>"
      ]
     },
     "metadata": {
      "needs_background": "light"
     },
     "output_type": "display_data"
    }
   ],
   "source": [
    "plt.semilogx(alpha_arr2, train_acc2, 'b-o', label = 'train')\n",
    "plt.semilogx(alpha_arr2, test_acc2, 'r-o', label = 'test')\n",
    "plt.xlim([np.min(alpha_arr2), np.max(alpha_arr2)])\n",
    "plt.title('Accuracy vs. alpha')\n",
    "plt.xlabel('alpha')\n",
    "plt.ylabel('Accuracy')\n",
    "plt.legend()"
   ]
  },
  {
   "cell_type": "code",
   "execution_count": 149,
   "id": "b0ea74f6",
   "metadata": {},
   "outputs": [
    {
     "name": "stdout",
     "output_type": "stream",
     "text": [
      "Alpha opt: 5\n"
     ]
    }
   ],
   "source": [
    "alpha_opt = 5\n",
    "print(\"Alpha opt:\", alpha_opt)"
   ]
  },
  {
   "cell_type": "code",
   "execution_count": 150,
   "id": "142a8f67",
   "metadata": {},
   "outputs": [],
   "source": [
    "mlp_model = MLPClassifier(alpha=alpha_opt, hidden_layer_sizes=(20,),\n",
    "                          solver='adam', activation='relu', random_state=42)\n",
    "mlp_model.fit(X_train, y_train)\n",
    "\n",
    "y_train_pred = mlp_model.predict(X_train)\n",
    "y_test_pred = mlp_model.predict(X_test)"
   ]
  },
  {
   "cell_type": "code",
   "execution_count": 154,
   "id": "1b8e2ef4",
   "metadata": {},
   "outputs": [
    {
     "name": "stdout",
     "output_type": "stream",
     "text": [
      "[[  607    10]\n",
      " [ 4143 10901]]\n"
     ]
    }
   ],
   "source": [
    "from sklearn.metrics import accuracy_score, confusion_matrix, ConfusionMatrixDisplay\n",
    "print(confusion_matrix(y_test_pred, y_test))"
   ]
  },
  {
   "cell_type": "code",
   "execution_count": 155,
   "id": "3b06ddaf",
   "metadata": {},
   "outputs": [
    {
     "data": {
      "image/png": "[encoded data removed]",
      "text/plain": [
       "<Figure size 432x288 with 2 Axes>"
      ]
     },
     "metadata": {
      "needs_background": "light"
     },
     "output_type": "display_data"
    }
   ],
   "source": [
    "predictions = mlp_model.predict(X_test)\n",
    "cm = confusion_matrix(y_test, predictions, labels=mlp_model.classes_)\n",
    "disp = ConfusionMatrixDisplay(confusion_matrix=cm, display_labels=mlp_model.classes_)\n",
    "disp.plot()\n",
    "plt.show()"
   ]
  },
  {
   "cell_type": "markdown",
   "id": "757963e8",
   "metadata": {},
   "source": [
    "# Выводы"
   ]
  },
  {
   "cell_type": "markdown",
   "id": "f1919340",
   "metadata": {},
   "source": [
    "\n",
    "## Подбор числа нейронов в однослойной моделе\n",
    "\n",
    "1) Графики Error и Accuracy для train и test почти зеркальны, что говорит об почти одинаковом распределении тренировочных и тестовых данных.\n",
    "2) Наблюдается переобучение. Результаты точности тренировной выборки оказались выше примерно на 1%, чем у тестовой. Это говорит об умении модели обучаться.\n",
    "3) За оптимальный размер скрытого слоя возьмём минимум ошибки и максимум точности на тестовой выборке 87.3% - 17 нейрон.\n",
    "4) При количестве нейровнов в слое больше 2 уже достигается точность выше 87%. Это говорит о том, что все входные объекты могут быть спроецированы в двумерное пространство и разделены на классы с высокой точностью 87%.\n",
    "\n",
    "## Подбор числа нейронов в двуслойной моделе\n",
    "\n",
    "1) Наблюдается недообучение тренировочной выборки на 1%, по сравнению с тестовой (это видно из графиков, на тестовой выборке преобладает жёлтоватый цвет, в то время как на тренировочной зеленоватый)\n",
    "2) За оптимальные размеры скрытых слоёв возьмём минимум ошибки и максимум точности на тестовой выборке 98% - 30 и 10 нейронов\n",
    "\n",
    "## Подбор параметра регуляризации\n",
    "\n",
    "Как уже было замечено выше, с ростом коэффициента регуляризации растёт ошибка и соответственно снижается точность. Это говорит о том, что после обучения у модели не возникает больших значений весовых коэффициентов, а значит нет переобучения у модели. При alpha > 10e-1 начинается рост ошибки и снижение точности, то есть с ростом alpha веса модели уменьшаются и стремятся к нулю.\n"
   ]
  }
 ],
 "metadata": {
  "kernelspec": {
   "display_name": "Python 3",
   "language": "python",
   "name": "python3"
  },
  "language_info": {
   "codemirror_mode": {
    "name": "ipython",
    "version": 3
   },
   "file_extension": ".py",
   "mimetype": "text/x-python",
   "name": "python",
   "nbconvert_exporter": "python",
   "pygments_lexer": "ipython3",
   "version": "3.8.8"
  }
 },
 "nbformat": 4,
 "nbformat_minor": 5
}
